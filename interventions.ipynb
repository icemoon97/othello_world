{
 "cells": [
  {
   "cell_type": "code",
   "execution_count": 1,
   "metadata": {},
   "outputs": [],
   "source": [
    "%load_ext autoreload\n",
    "%autoreload 2"
   ]
  },
  {
   "cell_type": "code",
   "execution_count": 2,
   "metadata": {},
   "outputs": [],
   "source": [
    "# make deterministic\n",
    "from mingpt.utils import set_seed\n",
    "set_seed(44)"
   ]
  },
  {
   "cell_type": "code",
   "execution_count": 3,
   "metadata": {},
   "outputs": [],
   "source": [
    "import math\n",
    "import time\n",
    "import numpy as np\n",
    "from copy import deepcopy\n",
    "import pickle\n",
    "import seaborn as sns\n",
    "import torch\n",
    "import torch.nn as nn\n",
    "from torch.utils.data.dataloader import DataLoader\n",
    "from torch.nn import functional as F\n",
    "from torch.utils.data import Subset\n",
    "from tqdm import tqdm\n",
    "from matplotlib import pyplot as plt\n",
    "\n",
    "from data import plot_probs, plot_mentals\n",
    "from data.othello import permit, start_hands, Othello, OthelloBoardState, permit_reverse\n",
    "from mingpt.dataset import CharDataset\n",
    "from mingpt.model import GPT, GPTConfig, GPTforProbeIA\n",
    "from mingpt.utils import sample, intervene, print_board\n",
    "from mingpt.probe_model import BatteryProbeClassification, BatteryProbeClassificationTwoLayer"
   ]
  },
  {
   "cell_type": "code",
   "execution_count": 4,
   "metadata": {},
   "outputs": [],
   "source": [
    "def draw_board_heatmap(board, **kwargs):\n",
    "    fig = plt.figure(figsize=(10, 6), dpi= 80, facecolor='w', edgecolor='k')\n",
    "    sns.heatmap(board.reshape(8, 8), **kwargs,\n",
    "            yticklabels=list(\"ABCDEFGH\"), xticklabels=list(range(1,9)), square=True, \n",
    "            annot=True, fmt=\".2f\")\n",
    "    return fig"
   ]
  },
  {
   "cell_type": "code",
   "execution_count": 5,
   "metadata": {},
   "outputs": [],
   "source": [
    "def draw_heatmap_from_tokens(token_pred, **kwargs):\n",
    "    # take off first token, as it isn't a board position\n",
    "    token_pred = token_pred[1:]\n",
    "    # add padding to get from tokens -> board positions\n",
    "    padding = np.zeros(2)\n",
    "    board = np.concatenate([token_pred[:27], padding, token_pred[27:33], padding, token_pred[33:]], axis=0)\n",
    "    # plotting\n",
    "    return draw_board_heatmap(board, **kwargs)"
   ]
  },
  {
   "cell_type": "code",
   "execution_count": 6,
   "metadata": {},
   "outputs": [],
   "source": [
    "def load_probes(ckpt_path, layer_range):\n",
    "    probes = {}\n",
    "    for layer in layer_range:\n",
    "        p = BatteryProbeClassificationTwoLayer(torch.cuda.current_device(), probe_class=3, num_task=64, mid_dim=256)\n",
    "        load_res = p.load_state_dict(torch.load(f\"./ckpts/{ckpt_path}/layer{layer}/checkpoint.ckpt\"))\n",
    "        p.eval()\n",
    "        probes[layer] = p\n",
    "    return probes"
   ]
  },
  {
   "cell_type": "code",
   "execution_count": 7,
   "metadata": {},
   "outputs": [],
   "source": [
    "def load_model_layers(ckpt_path, layer_range):\n",
    "    mconf = GPTConfig(61, 59, n_layer=8, n_head=8, n_embd=512)\n",
    "\n",
    "    models = {}\n",
    "    for layer in layer_range:\n",
    "        model = GPTforProbeIA(mconf, probe_layer=layer)\n",
    "        # model = GPT(mconf)\n",
    "        load_res = model.load_state_dict(torch.load(f\"./ckpts/{ckpt_path}.ckpt\"))\n",
    "        if torch.cuda.is_available():\n",
    "            device = torch.cuda.current_device()\n",
    "            model = model.to(device)\n",
    "        _ = model.eval()\n",
    "        models[layer] = model\n",
    "\n",
    "    return models, device"
   ]
  },
  {
   "cell_type": "code",
   "execution_count": 15,
   "metadata": {},
   "outputs": [],
   "source": [
    "def intervene_predict(models, device, probes, layer_range, completion, wtd_list):\n",
    "    # setting up partial game\n",
    "    ab = OthelloBoardState()\n",
    "    ab.update(completion)\n",
    "\n",
    "    othello = Othello(n_games=10, deduplicate=False, quiet=True)\n",
    "    train_dataset = CharDataset(othello)\n",
    "\n",
    "    partial_game = torch.tensor([train_dataset.stoi[s] for s in completion], dtype=torch.long).to(device)\n",
    "\n",
    "    # calculating pre intervention valid moves and predictions\n",
    "    pre_intv_valids = [permit_reverse(_) for _ in ab.get_valid_moves()]\n",
    "    print(pre_intv_valids)\n",
    "\n",
    "    pre_intv_pred, _ = models[layer_range.stop-1](partial_game[None, :])  # [B, T, F=512]\n",
    "    pre_intv_pred = pre_intv_pred[0, -1, :]\n",
    "    pre_intv_pred = torch.softmax(pre_intv_pred, dim=0).detach().cpu().numpy()\n",
    "\n",
    "    # settings for intervention optimization\n",
    "    htd = {\"lr\": 1e-3, \"steps\": 1000, \"reg_strg\": 0.2}\n",
    "    \n",
    "    # setting up post intervention ground truth\n",
    "    for wtd in wtd_list:\n",
    "        move = permit(wtd[\"intervention_position\"])\n",
    "        r, c = move // 8, move % 8\n",
    "        ab.state[r, c] = wtd[\"intervention_to\"] - 1\n",
    "    # ab.__print__()\n",
    "    post_intv_valids = [permit_reverse(_) for _ in ab.get_valid_moves()]\n",
    "    print(post_intv_valids)\n",
    "\n",
    "    # setting up intervention\n",
    "    p = probes[layer_range.start]\n",
    "    whole_mid_act = models[layer_range.start].forward_1st_stage(partial_game[None, :])  # [B, T, F=512]\n",
    "\n",
    "    # intervene at the earlest interested layer \n",
    "    mid_act = whole_mid_act[0, -1]\n",
    "    pre_intv_logits = p(mid_act[None, :])[0].squeeze(0)  # [64, 3]\n",
    "    labels_pre_intv = pre_intv_logits.detach().argmax(dim=-1)\n",
    "    new_mid_act = mid_act.clone()\n",
    "    for wtd in wtd_list:\n",
    "        new_mid_act = intervene(p, new_mid_act, labels_pre_intv, wtd, htd, plot=True)\n",
    "        pre_intv_logits = p(new_mid_act[None, :])[0].squeeze(0)  # [64, 3]\n",
    "        labels_pre_intv = pre_intv_logits.detach().argmax(dim=-1)\n",
    "    post_intv_logits = p(new_mid_act[None, :])[0].squeeze(0)  # [64, 3]\n",
    "\n",
    "    # swap in \n",
    "    whole_mid_act[0, -1] = new_mid_act\n",
    "\n",
    "    for i, layer in enumerate(range(layer_range.start, layer_range.stop - 1)):  # 4, 5, 6, 7, indices of the layers to be passed\n",
    "        p = probes[layer+1]\n",
    "        whole_mid_act = models[layer_range.start].forward_2nd_stage(whole_mid_act, layer, layer+1)[0]  # [1, T, F=512]\n",
    "        \n",
    "        # intervene the output of the features freshly out\n",
    "        mid_act = whole_mid_act[0, -1]\n",
    "        pre_intv_logits = p(mid_act[None, :])[0].squeeze(0)  # [64, 3]\n",
    "\n",
    "        labels_pre_intv = pre_intv_logits.detach().argmax(dim=-1)\n",
    "        new_mid_act = mid_act.clone()\n",
    "        for wtd in wtd_list:\n",
    "            new_mid_act = intervene(p, new_mid_act, labels_pre_intv, wtd, htd, plot=True)\n",
    "            pre_intv_logits = p(new_mid_act[None, :])[0].squeeze(0)  # [64, 3]\n",
    "            labels_pre_intv = pre_intv_logits.detach().argmax(dim=-1)\n",
    "        post_intv_logits = p(new_mid_act[None, :])[0].squeeze(0)  # [64, 3]\n",
    "\n",
    "        # swap in \n",
    "        whole_mid_act[0, -1] = new_mid_act\n",
    "\n",
    "    tb_resumed = whole_mid_act\n",
    "    post_intv_pred, _ = models[layer_range.start].predict(tb_resumed)\n",
    "    post_intv_pred = post_intv_pred[0, -1, :]\n",
    "    post_intv_pred = torch.softmax(post_intv_pred, dim=0).detach().cpu().numpy()\n",
    "\n",
    "    return pre_intv_pred, post_intv_pred\n",
    "        "
   ]
  },
  {
   "cell_type": "code",
   "execution_count": 9,
   "metadata": {},
   "outputs": [],
   "source": [
    "layer_range = range(4, 9)"
   ]
  },
  {
   "cell_type": "code",
   "execution_count": 11,
   "metadata": {},
   "outputs": [],
   "source": [
    "models, device = load_model_layers(\"bias/TLcontrol\", layer_range)\n",
    "probes = load_probes(\"bias/probes/state_tl256_control\", layer_range)"
   ]
  },
  {
   "cell_type": "code",
   "execution_count": null,
   "metadata": {},
   "outputs": [],
   "source": [
    "with open(\"intervention_benchmark.pkl\", \"rb\") as input_file:\n",
    "    benchmark = pickle.load(input_file)"
   ]
  },
  {
   "cell_type": "code",
   "execution_count": null,
   "metadata": {},
   "outputs": [],
   "source": [
    "case_id = 777\n",
    "wtd = {\n",
    "    \"intervention_position\": permit_reverse(benchmark[case_id][\"pos_int\"]), \n",
    "    \"intervention_from\": benchmark[case_id][\"ori_color\"], \n",
    "    \"intervention_to\": 2 - benchmark[case_id][\"ori_color\"], \n",
    "}\n",
    "completion = benchmark[case_id][\"history\"]\n",
    "print(wtd)"
   ]
  },
  {
   "cell_type": "code",
   "execution_count": 12,
   "metadata": {},
   "outputs": [
    {
     "name": "stderr",
     "output_type": "stream",
     "text": [
      "Mem Used: 4.143 GB:   0%|          | 0/50 [00:00<?, ?it/s]"
     ]
    },
    {
     "name": "stdout",
     "output_type": "stream",
     "text": [
      "Loaded 100000 from 1 files\n",
      "Using 80 for training, 20 for validation\n",
      "{'intervention_position': 'f3', 'intervention_from': 1, 'intervention_to': 0}\n"
     ]
    },
    {
     "name": "stderr",
     "output_type": "stream",
     "text": [
      "\n"
     ]
    }
   ],
   "source": [
    "games = Othello(data_root=\"othello_TLbias50\", n_games=100, deduplicate=False)\n",
    "# white 0, blank 1, black 2\n",
    "wtd = {\n",
    "    \"intervention_position\": \"f3\", \n",
    "    \"intervention_from\": 1, \n",
    "    \"intervention_to\": 0, \n",
    "}\n",
    "completion = games[0][:30]\n",
    "print(wtd)"
   ]
  },
  {
   "cell_type": "code",
   "execution_count": 13,
   "metadata": {},
   "outputs": [],
   "source": [
    "wtd_list = [wtd]"
   ]
  },
  {
   "cell_type": "code",
   "execution_count": 16,
   "metadata": {},
   "outputs": [
    {
     "name": "stdout",
     "output_type": "stream",
     "text": [
      "Dataset created has 8 sequences, 61 unique words.\n",
      "['c8', 'd1', 'd2', 'd7', 'd8', 'f6', 'g6', 'h5', 'h6']\n",
      "['c8', 'd1', 'd2', 'd7', 'd8', 'e2', 'f2', 'f6', 'g2', 'g6', 'h5', 'h6']\n",
      "f3 Sucessfully intervened!\n",
      "f3 Sucessfully intervened!\n",
      "f3 Sucessfully intervened!\n",
      "f3 Sucessfully intervened!\n",
      "f3 Sucessfully intervened!\n"
     ]
    }
   ],
   "source": [
    "pre, post = intervene_predict(models, device, probes, layer_range, completion, wtd_list)"
   ]
  },
  {
   "cell_type": "code",
   "execution_count": 17,
   "metadata": {},
   "outputs": [
    {
     "data": {
      "image/png": "[encoded data removed]",
      "text/plain": [
       "<Figure size 800x480 with 2 Axes>"
      ]
     },
     "metadata": {},
     "output_type": "display_data"
    },
    {
     "data": {
      "image/png": "[encoded data removed]",
      "text/plain": [
       "<Figure size 800x480 with 2 Axes>"
      ]
     },
     "metadata": {},
     "output_type": "display_data"
    }
   ],
   "source": [
    "fig = draw_heatmap_from_tokens(pre)\n",
    "fig = draw_heatmap_from_tokens(post)"
   ]
  }
 ],
 "metadata": {
  "kernelspec": {
   "display_name": "othello",
   "language": "python",
   "name": "python3"
  },
  "language_info": {
   "codemirror_mode": {
    "name": "ipython",
    "version": 3
   },
   "file_extension": ".py",
   "mimetype": "text/x-python",
   "name": "python",
   "nbconvert_exporter": "python",
   "pygments_lexer": "ipython3",
   "version": "3.8.8"
  },
  "orig_nbformat": 4
 },
 "nbformat": 4,
 "nbformat_minor": 2
}
