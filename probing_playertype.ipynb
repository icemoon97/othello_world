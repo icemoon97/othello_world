{
 "cells": [
  {
   "cell_type": "code",
   "execution_count": 1,
   "metadata": {},
   "outputs": [],
   "source": [
    "%load_ext autoreload\n",
    "%autoreload 2"
   ]
  },
  {
   "cell_type": "code",
   "execution_count": 2,
   "metadata": {},
   "outputs": [],
   "source": [
    "# make deterministic\n",
    "from mingpt.utils import set_seed\n",
    "set_seed(42)"
   ]
  },
  {
   "cell_type": "code",
   "execution_count": 3,
   "metadata": {},
   "outputs": [],
   "source": [
    "import os\n",
    "import time\n",
    "from tqdm import tqdm\n",
    "import numpy as np\n",
    "from matplotlib import pyplot as plt\n",
    "import argparse\n",
    "import torch\n",
    "import torch.nn as nn\n",
    "from torch.nn import functional as F\n",
    "from torch.utils.data import Dataset\n",
    "from torch.utils.data.dataloader import DataLoader\n",
    "from data.othello import Othello, OthelloBoardState\n",
    "from mingpt.dataset import CharDataset\n",
    "from mingpt.model import GPT, GPTConfig, GPTforProbing\n",
    "from mingpt.probe_trainer import Trainer, TrainerConfig\n",
    "from mingpt.probe_model import BatteryProbeClassification, BatteryProbeClassificationTwoLayer"
   ]
  },
  {
   "cell_type": "markdown",
   "metadata": {},
   "source": [
    "### Training playertype probes"
   ]
  },
  {
   "cell_type": "code",
   "execution_count": 4,
   "metadata": {},
   "outputs": [],
   "source": [
    "model_ckpt = \"playertype/playertype_e40\"\n",
    "probe_root = \"playertype\"\n",
    "probe_type = \"player\" # player or state\n",
    "probe_layer = 6\n",
    "twolayer = False\n",
    "epo = 16\n",
    "mid_dim = 256"
   ]
  },
  {
   "cell_type": "code",
   "execution_count": 5,
   "metadata": {},
   "outputs": [
    {
     "name": "stderr",
     "output_type": "stream",
     "text": [
      "  0%|          | 0/50 [00:00<?, ?it/s]"
     ]
    },
    {
     "name": "stdout",
     "output_type": "stream",
     "text": [
      "Running experiment for playertype/probes/player\n"
     ]
    },
    {
     "name": "stderr",
     "output_type": "stream",
     "text": [
      "Mem Used: 1.136 GB:   0%|          | 0/50 [00:00<?, ?it/s]"
     ]
    },
    {
     "name": "stdout",
     "output_type": "stream",
     "text": [
      "Loaded 100000 from 1 files\n",
      "Using 10000 for training, 0 for validation\n",
      "Dataset created has 10000 sequences, 61 unique words.\n"
     ]
    },
    {
     "name": "stderr",
     "output_type": "stream",
     "text": [
      "\n"
     ]
    }
   ],
   "source": [
    "folder_name = f\"{probe_root}/probes/{probe_type}\"\n",
    "\n",
    "if twolayer:\n",
    "    folder_name = folder_name + f\"_tl{mid_dim}\"  # tl for probes without batchnorm\n",
    "\n",
    "print(f\"Running experiment for {folder_name}\")\n",
    "othello = Othello(data_root=\"othello_1player\", n_games=10000, deduplicate=False, test_split=0)\n",
    "\n",
    "player_types, games = zip(*othello)\n",
    "train_dataset = CharDataset(games)\n"
   ]
  },
  {
   "cell_type": "code",
   "execution_count": 6,
   "metadata": {},
   "outputs": [],
   "source": [
    "mconf = GPTConfig(train_dataset.vocab_size, train_dataset.block_size, n_layer=8, n_head=8, n_embd=512)\n",
    "model = GPTforProbing(mconf, probe_layer=probe_layer)\n",
    "# if args.random:\n",
    "#     model.apply(model._init_weights)\n",
    "if model_ckpt:  # trained on synthetic dataset\n",
    "    load_res = model.load_state_dict(torch.load(f\"./ckpts/{model_ckpt}.ckpt\"))\n",
    "else:\n",
    "    raise Exception(\"not given ckpt path or random flag\")\n",
    "\n",
    "if torch.cuda.is_available():\n",
    "    device = torch.cuda.current_device()\n",
    "    model = model.to(device)"
   ]
  },
  {
   "cell_type": "code",
   "execution_count": 7,
   "metadata": {},
   "outputs": [
    {
     "name": "stderr",
     "output_type": "stream",
     "text": [
      "100%|██████████| 10000/10000 [00:56<00:00, 177.95it/s]\n"
     ]
    }
   ],
   "source": [
    "# creating dataset of activations and properties\n",
    "loader = DataLoader(train_dataset, shuffle=False, pin_memory=True, batch_size=1, num_workers=1)\n",
    "act_container = []\n",
    "property_container = []\n",
    "time_container = []\n",
    "\n",
    "for i, (x, y) in tqdm(enumerate(loader), total=len(loader)):\n",
    "    tbf = [train_dataset.itos[_] for _ in x.tolist()[0]]\n",
    "    # truncates game if it is less than 60 moves\n",
    "    valid_until = tbf.index(-100) if -100 in tbf else 999\n",
    "    # gets activations for each move\n",
    "    a = OthelloBoardState()\n",
    "    act = model(x.to(device))[0, ...].detach().cpu()  # [block_size, f]\n",
    "    act_container.extend([_[0] for _ in act.split(1, dim=0)[:valid_until]])\n",
    "\n",
    "    if probe_type == \"state\":\n",
    "        properties = a.get_gt(tbf[:valid_until], \"get_state\")  # [block_size, ]\n",
    "    elif probe_type == \"player\":\n",
    "        properties = [[player_types[i]] for _ in range(len(tbf[:valid_until]))]\n",
    "    property_container.extend(properties)\n",
    "\n",
    "    time_container.extend([i for i in range(len(tbf[:valid_until]))])\n",
    "\n",
    "    assert len(act_container) == len(property_container)\n",
    "    assert len(act_container) == len(time_container)\n"
   ]
  },
  {
   "cell_type": "code",
   "execution_count": 8,
   "metadata": {},
   "outputs": [],
   "source": [
    "# 3 for board state (empty/black/white), 4 for player type (corners)\n",
    "probe_class = 4 \n",
    "# 64 for board state, 1 for player type\n",
    "num_task = 1 \n",
    "\n",
    "if twolayer:\n",
    "    probe = BatteryProbeClassificationTwoLayer(device, probe_class=probe_class, num_task=num_task, mid_dim=mid_dim)\n",
    "else:\n",
    "    probe = BatteryProbeClassification(device, probe_class=probe_class, num_task=num_task)"
   ]
  },
  {
   "cell_type": "code",
   "execution_count": 10,
   "metadata": {},
   "outputs": [
    {
     "name": "stdout",
     "output_type": "stream",
     "text": [
      "585823 pairs loaded...\n",
      "y: (array([0, 1, 2, 3]), array([150654, 143013, 146761, 145395]))\n",
      "time: (array([ 0,  1,  2,  3,  4,  5,  6,  7,  8,  9, 10, 11, 12, 13, 14, 15, 16,\n",
      "       17, 18, 19, 20, 21, 22, 23, 24, 25, 26, 27, 28, 29, 30, 31, 32, 33,\n",
      "       34, 35, 36, 37, 38, 39, 40, 41, 42, 43, 44, 45, 46, 47, 48, 49, 50,\n",
      "       51, 52, 53, 54, 55, 56, 57, 58]), array([10000, 10000, 10000, 10000, 10000, 10000, 10000, 10000, 10000,\n",
      "       10000, 10000, 10000, 10000, 10000, 10000, 10000, 10000, 10000,\n",
      "       10000, 10000, 10000, 10000, 10000,  9997,  9996,  9995,  9993,\n",
      "        9992,  9988,  9986,  9984,  9982,  9980,  9978,  9972,  9961,\n",
      "        9950,  9944,  9939,  9929,  9917,  9902,  9897,  9886,  9876,\n",
      "        9865,  9852,  9843,  9832,  9822,  9803,  9785,  9771,  9752,\n",
      "        9738,  9720,  9703,  9671,  9622]))\n"
     ]
    }
   ],
   "source": [
    "class ProbingDataset(Dataset):\n",
    "    def __init__(self, act, y, time):\n",
    "        assert len(act) == len(y)\n",
    "        print(f\"{len(act)} pairs loaded...\")\n",
    "        self.act = act\n",
    "        self.y = y\n",
    "        self.time = time\n",
    "        # print(np.sum(np.array(y)==0), np.sum(np.array(y)==1), np.sum(np.array(y)==2))\n",
    "        print(\"y:\", np.unique(y, return_counts=True))\n",
    "        print(\"time:\", np.unique(time, return_counts=True))\n",
    "        \n",
    "    def __len__(self, ):\n",
    "        return len(self.y)\n",
    "    def __getitem__(self, idx):\n",
    "        return self.act[idx], torch.tensor(self.y[idx]).to(torch.long), self.time[idx]\n",
    "\n",
    "probing_dataset = ProbingDataset(act_container, property_container, time_container)\n",
    "train_size = int(0.8 * len(probing_dataset))\n",
    "test_size = len(probing_dataset) - train_size\n",
    "train_dataset, test_dataset = torch.utils.data.random_split(probing_dataset, [train_size, test_size])"
   ]
  },
  {
   "cell_type": "code",
   "execution_count": 79,
   "metadata": {},
   "outputs": [],
   "source": [
    "max_epochs = epo\n",
    "t_start = time.strftime(\"_%Y%m%d_%H%M%S\")\n",
    "tconf = TrainerConfig(\n",
    "    max_epochs=max_epochs, \n",
    "    batch_size=1024, \n",
    "    learning_rate=1e-3,\n",
    "    betas=(.9, .999), \n",
    "    lr_decay=True, \n",
    "    warmup_tokens=len(train_dataset)*5, \n",
    "    final_tokens=len(train_dataset)*max_epochs,\n",
    "    num_workers=0, \n",
    "    weight_decay=0., \n",
    "    ckpt_path=os.path.join(\"./ckpts/\", folder_name, f\"layer{probe_layer}\")\n",
    ")\n",
    "trainer = Trainer(probe, train_dataset, test_dataset, tconf)"
   ]
  },
  {
   "cell_type": "code",
   "execution_count": 80,
   "metadata": {},
   "outputs": [
    {
     "name": "stderr",
     "output_type": "stream",
     "text": [
      "epoch 1: train loss 1.57106; lr 1.00e-03; train acc 53.32%:   1%|▏         | 6/458 [00:00<00:08, 54.33it/s]"
     ]
    },
    {
     "name": "stdout",
     "output_type": "stream",
     "text": [
      "Decayed: {'proj.weight', 'proj.bias'}\n"
     ]
    },
    {
     "name": "stderr",
     "output_type": "stream",
     "text": [
      "epoch 1: train loss 1.49397; lr 1.00e-03; train acc 59.38%:   1%|▏         | 6/458 [00:00<00:08, 54.33it/s]"
     ]
    },
    {
     "name": "stderr",
     "output_type": "stream",
     "text": [
      "epoch 1: train loss 0.11802; lr 1.00e-03; train acc 98.12%: 100%|██████████| 458/458 [00:06<00:00, 75.38it/s]\n",
      "epoch 2: train loss 0.07059; lr 1.00e-03; train acc 97.83%: 100%|██████████| 458/458 [00:05<00:00, 85.56it/s]\n",
      "epoch 3: train loss 0.06960; lr 1.00e-03; train acc 98.12%: 100%|██████████| 458/458 [00:05<00:00, 85.19it/s]\n",
      "epoch 4: train loss 0.06870; lr 1.00e-03; train acc 98.26%: 100%|██████████| 458/458 [00:06<00:00, 75.90it/s]\n",
      "epoch 5: train loss 0.06871; lr 1.00e-03; train acc 97.97%: 100%|██████████| 458/458 [00:05<00:00, 89.13it/s]\n",
      "epoch 6: train loss 0.06641; lr 7.50e-04; train acc 97.97%: 100%|██████████| 458/458 [00:05<00:00, 87.27it/s]\n",
      "epoch 7: train loss 0.06606; lr 7.50e-04; train acc 98.41%: 100%|██████████| 458/458 [00:05<00:00, 77.89it/s]\n",
      "epoch 8: train loss 0.06506; lr 5.63e-04; train acc 97.83%: 100%|██████████| 458/458 [00:05<00:00, 86.92it/s]\n",
      "epoch 9: train loss 0.06352; lr 4.22e-04; train acc 98.26%: 100%|██████████| 458/458 [00:05<00:00, 87.98it/s]\n",
      "epoch 10: train loss 0.06254; lr 3.16e-04; train acc 98.99%: 100%|██████████| 458/458 [00:05<00:00, 86.12it/s]\n",
      "epoch 11: train loss 0.06248; lr 3.16e-04; train acc 96.96%: 100%|██████████| 458/458 [00:06<00:00, 75.84it/s]\n",
      "epoch 12: train loss 0.06235; lr 3.16e-04; train acc 98.70%: 100%|██████████| 458/458 [00:05<00:00, 83.63it/s]\n",
      "epoch 13: train loss 0.06188; lr 2.37e-04; train acc 97.68%: 100%|██████████| 458/458 [00:05<00:00, 84.64it/s]\n",
      "epoch 14: train loss 0.06138; lr 1.78e-04; train acc 97.97%: 100%|██████████| 458/458 [00:05<00:00, 83.25it/s]\n",
      "epoch 15: train loss 0.06124; lr 1.78e-04; train acc 97.68%: 100%|██████████| 458/458 [00:06<00:00, 76.12it/s]\n",
      "epoch 16: train loss 0.06098; lr 1.33e-04; train acc 97.39%: 100%|██████████| 458/458 [00:05<00:00, 84.16it/s]\n"
     ]
    }
   ],
   "source": [
    "trainer.train(prt=True)\n",
    "trainer.save_traces()\n",
    "trainer.save_checkpoint()"
   ]
  },
  {
   "cell_type": "markdown",
   "metadata": {},
   "source": [
    "### testing probe accuracy"
   ]
  },
  {
   "cell_type": "code",
   "execution_count": 11,
   "metadata": {},
   "outputs": [],
   "source": [
    "probe = BatteryProbeClassification(device, probe_class=4, num_task=1)\n",
    "load_res = probe.load_state_dict(torch.load(f\"./ckpts/playertype/probes/player/layer6/checkpoint.ckpt\"))\n",
    "\n",
    "probe = probe.to(device)"
   ]
  },
  {
   "cell_type": "code",
   "execution_count": 25,
   "metadata": {},
   "outputs": [
    {
     "name": "stderr",
     "output_type": "stream",
     "text": [
      "100%|██████████| 3662/3662 [00:10<00:00, 333.66it/s]"
     ]
    },
    {
     "name": "stdout",
     "output_type": "stream",
     "text": [
      "[3549. 6600. 6933. 7475. 7602. 7702. 7717. 7778. 7820. 7921. 7950. 7876.\n",
      " 7878. 7916. 7893. 7962. 8000. 7920. 7953. 7967. 7986. 7939. 7954. 7925.\n",
      " 7961. 7851. 7949. 7924. 7978. 7954. 7990. 7989. 8006. 7980. 8032. 7981.\n",
      " 7896. 7958. 7920. 7944. 7919. 7929. 7940. 7913. 7934. 7922. 7797. 7897.\n",
      " 7937. 7862. 7830. 7809. 7779. 7814. 7754. 7771. 7748. 7680. 7702.]\n"
     ]
    },
    {
     "name": "stderr",
     "output_type": "stream",
     "text": [
      "\n"
     ]
    }
   ],
   "source": [
    "train_loader = DataLoader(train_dataset, shuffle=False, pin_memory=True, batch_size=128, num_workers=1)\n",
    "\n",
    "total_states = 0\n",
    "total_correct = 0\n",
    "\n",
    "correct_over_time = np.zeros(59)\n",
    "total_over_time = np.zeros(59)\n",
    "\n",
    "pbar = tqdm(enumerate(train_loader), total=len(train_loader))\n",
    "for it, (x, y, time) in pbar:\n",
    "    x = x.to(device)  # [B, f]\n",
    "    y = y.to(device)  # [B, #task=1] \n",
    "\n",
    "    logits, loss = probe(x, y)\n",
    "    pred = torch.argmax(logits, dim=2)\n",
    "    pred = pred.detach().cpu().numpy()\n",
    "\n",
    "    true = y.detach().cpu().numpy()\n",
    "    correct = pred == true\n",
    "    total_correct += np.count_nonzero(correct)\n",
    "\n",
    "    total_states += x.shape[0]\n",
    "\n",
    "    time = time.detach().cpu().numpy()\n",
    "    # correct_over_time[time] += correct.flatten()\n",
    "\n",
    "    for (t, c) in zip(time, correct.flatten()):\n",
    "        total_over_time[t] += 1\n",
    "        if c:\n",
    "            correct_over_time[t] += 1\n",
    "\n",
    "    # print(sorted(time))\n",
    "\n",
    "print(correct_over_time)\n",
    "\n",
    "    "
   ]
  },
  {
   "cell_type": "code",
   "execution_count": 26,
   "metadata": {},
   "outputs": [
    {
     "name": "stdout",
     "output_type": "stream",
     "text": [
      "458466 468658\n",
      "0.9782527984159024\n"
     ]
    }
   ],
   "source": [
    "print(total_correct, total_states)\n",
    "print(total_correct / total_states)"
   ]
  },
  {
   "cell_type": "code",
   "execution_count": 28,
   "metadata": {},
   "outputs": [
    {
     "name": "stdout",
     "output_type": "stream",
     "text": [
      "[0.44445836 0.8247938  0.86770964 0.92799503 0.94918217 0.9557017\n",
      " 0.96837746 0.97725845 0.98290598 0.9864259  0.98819142 0.9896959\n",
      " 0.98982284 0.99222863 0.99096045 0.99289188 0.9934186  0.99310345\n",
      " 0.99375234 0.99376325 0.99464441 0.99399023 0.99512073 0.99597838\n",
      " 0.99624578 0.99556176 0.99599048 0.9966042  0.99687617 0.99724173\n",
      " 0.99688085 0.99737828 0.99775673 0.99824869 0.9985082  0.99874859\n",
      " 0.99848255 0.99861965 0.99873897 0.99899396 0.99861286 0.99886621\n",
      " 0.99811439 0.99924233 0.9991185  0.99899117 0.99859119 0.99886162\n",
      " 0.99899308 0.99936443 0.9992343  0.99936012 0.99935766 0.99936053\n",
      " 0.99987105 0.99910003 0.99909736 0.99895942 0.99857384]\n"
     ]
    }
   ],
   "source": [
    "avg = correct_over_time / total_over_time\n",
    "print(avg)"
   ]
  },
  {
   "cell_type": "code",
   "execution_count": 45,
   "metadata": {},
   "outputs": [
    {
     "data": {
      "text/plain": [
       "Text(0, 0.5, 'Accuracy')"
      ]
     },
     "execution_count": 45,
     "metadata": {},
     "output_type": "execute_result"
    },
    {
     "data": {
      "image/png": "[encoded data removed]",
      "text/plain": [
       "<Figure size 800x480 with 1 Axes>"
      ]
     },
     "metadata": {},
     "output_type": "display_data"
    }
   ],
   "source": [
    "fig = plt.figure(figsize=(10, 6), dpi= 80, facecolor='w', edgecolor='k')\n",
    "plt.bar(range(len(avg)), avg)\n",
    "plt.xlabel(\"Turn Number\")\n",
    "plt.ylabel(\"Accuracy\")"
   ]
  },
  {
   "cell_type": "markdown",
   "metadata": {},
   "source": [
    "### intervening on player type"
   ]
  },
  {
   "cell_type": "code",
   "execution_count": 4,
   "metadata": {},
   "outputs": [],
   "source": [
    "from data.othello import permit, permit_reverse\n",
    "from mingpt.model import GPTforProbeIA\n",
    "import seaborn as sns"
   ]
  },
  {
   "cell_type": "code",
   "execution_count": 5,
   "metadata": {},
   "outputs": [],
   "source": [
    "def draw_board_heatmap(board, **kwargs):\n",
    "    fig = plt.figure(figsize=(10, 6), dpi= 80, facecolor='w', edgecolor='k')\n",
    "    sns.heatmap(board.reshape(8, 8), **kwargs,\n",
    "            yticklabels=list(\"ABCDEFGH\"), xticklabels=list(range(1,9)), square=True, \n",
    "            annot=True, fmt=\".2f\")\n",
    "    return fig"
   ]
  },
  {
   "cell_type": "code",
   "execution_count": 6,
   "metadata": {},
   "outputs": [],
   "source": [
    "def draw_heatmap_from_tokens(token_pred, **kwargs):\n",
    "    # take off first token, as it isn't a board position\n",
    "    token_pred = token_pred[1:]\n",
    "    # add padding to get from tokens -> board positions\n",
    "    padding = np.zeros(2)\n",
    "    board = np.concatenate([token_pred[:27], padding, token_pred[27:33], padding, token_pred[33:]], axis=0)\n",
    "    # plotting\n",
    "    return draw_board_heatmap(board, **kwargs)"
   ]
  },
  {
   "cell_type": "code",
   "execution_count": 7,
   "metadata": {},
   "outputs": [],
   "source": [
    "def load_probes(ckpt_path, layer_range):\n",
    "    probes = {}\n",
    "    for layer in layer_range:\n",
    "        p = BatteryProbeClassification(torch.cuda.current_device(), probe_class=4, num_task=1)\n",
    "        load_res = p.load_state_dict(torch.load(f\"./ckpts/{ckpt_path}/layer{layer}/checkpoint.ckpt\"))\n",
    "        p.eval()\n",
    "        probes[layer] = p\n",
    "    return probes"
   ]
  },
  {
   "cell_type": "code",
   "execution_count": 8,
   "metadata": {},
   "outputs": [],
   "source": [
    "def load_model_layers(ckpt_path, layer_range):\n",
    "    mconf = GPTConfig(61, 59, n_layer=8, n_head=8, n_embd=512)\n",
    "\n",
    "    models = {}\n",
    "    for layer in layer_range:\n",
    "        model = GPTforProbeIA(mconf, probe_layer=layer)\n",
    "        # model = GPT(mconf)\n",
    "        load_res = model.load_state_dict(torch.load(f\"./ckpts/{ckpt_path}.ckpt\"))\n",
    "        if torch.cuda.is_available():\n",
    "            device = torch.cuda.current_device()\n",
    "            model = model.to(device)\n",
    "        _ = model.eval()\n",
    "        models[layer] = model\n",
    "\n",
    "    return models, device"
   ]
  },
  {
   "cell_type": "code",
   "execution_count": 34,
   "metadata": {},
   "outputs": [],
   "source": [
    "layer_range = range(4, 9)\n",
    "models, device = load_model_layers(\"playertype/playertype_e40\", layer_range)\n",
    "probes = load_probes(\"playertype/probes/player\", layer_range)"
   ]
  },
  {
   "cell_type": "code",
   "execution_count": 35,
   "metadata": {},
   "outputs": [
    {
     "name": "stderr",
     "output_type": "stream",
     "text": [
      "  0%|          | 0/50 [00:00<?, ?it/s]"
     ]
    },
    {
     "name": "stderr",
     "output_type": "stream",
     "text": [
      "Mem Used: 4.685 GB:   0%|          | 0/50 [00:00<?, ?it/s]"
     ]
    },
    {
     "name": "stdout",
     "output_type": "stream",
     "text": [
      "Loaded 100000 from 1 files\n",
      "Using 100 for training, 0 for validation\n",
      "Dataset created has 100 sequences, 61 unique words.\n"
     ]
    },
    {
     "name": "stderr",
     "output_type": "stream",
     "text": [
      "\n"
     ]
    }
   ],
   "source": [
    "othello = Othello(data_root=\"othello_1player\", n_games=100, test_split=0, deduplicate=False)\n",
    "player_types, games = zip(*othello)\n",
    "train_dataset = CharDataset(games)"
   ]
  },
  {
   "cell_type": "code",
   "execution_count": 36,
   "metadata": {},
   "outputs": [
    {
     "name": "stdout",
     "output_type": "stream",
     "text": [
      "player type: 2\n",
      "--------------------\n",
      "['f5', 'f4', 'g3', 'g6', 'g5', 'g4', 'h3', 'h2', 'h1', 'h4', 'h5', 'h6', 'h7', 'g7', 'c4', 'e3', 'f7', 'g8', 'g2', 'g1']\n",
      "a                \n",
      "b                \n",
      "c       X        \n",
      "d       X X      \n",
      "e     O X X      \n",
      "f       O X   X  \n",
      "g O O O O O O O O\n",
      "h X X X X X X X  \n",
      "  1 2 3 4 5 6 7 8\n",
      "--------------------\n",
      "['d2', 'e2', 'f1', 'f2', 'f3', 'f6', 'f8']\n"
     ]
    }
   ],
   "source": [
    "game_index = 9\n",
    "completion = games[game_index][:20]\n",
    "print(\"player type:\", player_types[game_index])\n",
    "ob = OthelloBoardState()\n",
    "ob.update(completion)\n",
    "ob.__print__()\n",
    "print([permit_reverse(x) for x in ob.get_valid_moves()])"
   ]
  },
  {
   "cell_type": "code",
   "execution_count": 37,
   "metadata": {},
   "outputs": [],
   "source": [
    "# setting up partial game\n",
    "ab = OthelloBoardState()\n",
    "ab.update(completion)\n",
    "\n",
    "partial_game = torch.tensor([train_dataset.stoi[s] for s in completion], dtype=torch.long).to(device)"
   ]
  },
  {
   "cell_type": "code",
   "execution_count": 38,
   "metadata": {},
   "outputs": [
    {
     "data": {
      "image/png": "[encoded data removed]",
      "text/plain": [
       "<Figure size 800x480 with 2 Axes>"
      ]
     },
     "metadata": {},
     "output_type": "display_data"
    }
   ],
   "source": [
    "pre_intv_pred, _ = models[layer_range.stop-1](partial_game[None, :])  # [B, T, F=512]\n",
    "pre_intv_pred = pre_intv_pred[0, -1, :]\n",
    "pre_intv_pred = torch.softmax(pre_intv_pred, dim=0).detach().cpu().numpy()\n",
    "\n",
    "fig = draw_heatmap_from_tokens(pre_intv_pred, vmax=0.2)"
   ]
  },
  {
   "cell_type": "code",
   "execution_count": 39,
   "metadata": {},
   "outputs": [],
   "source": [
    "# settings for intervention optimization\n",
    "htd = {\"lr\": 1e-3, \"steps\": 1000, \"reg_strg\": 0.2}\n",
    "\n",
    "# setting up intervention\n",
    "p = probes[layer_range.start]\n",
    "whole_mid_act = models[layer_range.start].forward_1st_stage(partial_game[None, :])  # [B, T, F=512]"
   ]
  },
  {
   "cell_type": "code",
   "execution_count": 40,
   "metadata": {},
   "outputs": [],
   "source": [
    "player_type_target = 3"
   ]
  },
  {
   "cell_type": "code",
   "execution_count": 41,
   "metadata": {},
   "outputs": [
    {
     "name": "stdout",
     "output_type": "stream",
     "text": [
      "tensor([[-0.4015, -7.7484,  8.6299, -0.2280]], device='cuda:0',\n",
      "       grad_fn=<SqueezeBackward1>)\n",
      "pre-intv label: tensor([2], device='cuda:0')\n",
      "desired label: tensor([3], device='cuda:0')\n",
      "post-intv label: tensor([3], device='cuda:0')\n",
      "tensor([[-6.9105, -1.8401,  2.1781,  6.9592]], device='cuda:0',\n",
      "       grad_fn=<SqueezeBackward1>)\n",
      "LAYER 5\n",
      "desired label: tensor([3], device='cuda:0')\n",
      "post-intv label: tensor([3], device='cuda:0')\n",
      "tensor([[-7.3402, -2.1905,  1.1757,  6.4426]], device='cuda:0',\n",
      "       grad_fn=<SqueezeBackward1>)\n",
      "LAYER 6\n",
      "desired label: tensor([3], device='cuda:0')\n",
      "post-intv label: tensor([3], device='cuda:0')\n",
      "tensor([[-6.9280, -2.0093,  3.1530,  8.2216]], device='cuda:0',\n",
      "       grad_fn=<SqueezeBackward1>)\n",
      "LAYER 7\n",
      "desired label: tensor([3], device='cuda:0')\n",
      "post-intv label: tensor([3], device='cuda:0')\n",
      "tensor([[-7.1365, -2.1053,  3.6616,  8.7935]], device='cuda:0',\n",
      "       grad_fn=<SqueezeBackward1>)\n",
      "LAYER 8\n",
      "desired label: tensor([3], device='cuda:0')\n",
      "post-intv label: tensor([3], device='cuda:0')\n",
      "tensor([[-10.7728,  -2.5119,   0.6309,   8.1198]], device='cuda:0',\n",
      "       grad_fn=<SqueezeBackward1>)\n"
     ]
    }
   ],
   "source": [
    "# intervene at the earlest interested layer \n",
    "mid_act = whole_mid_act[0, -1]\n",
    "pre_intv_logits = p(mid_act[None, :])[0].squeeze(0)  # [1, 4]\n",
    "print(pre_intv_logits)\n",
    "labels_pre_intv = pre_intv_logits.detach().argmax(dim=-1)\n",
    "print(\"pre-intv label:\", labels_pre_intv)\n",
    "new_mid_act = mid_act.clone()\n",
    "\n",
    "\n",
    "new_mid_act = torch.tensor(mid_act.detach().cpu().numpy()).cuda()\n",
    "new_mid_act.requires_grad = True\n",
    "opt = torch.optim.Adam([new_mid_act], lr=htd[\"lr\"])\n",
    "\n",
    "# setting our desired player type\n",
    "labels_post_intv = labels_pre_intv.clone()\n",
    "labels_post_intv[0] = player_type_target\n",
    "\n",
    "print(\"desired label:\", labels_post_intv)\n",
    "\n",
    "logit_container = []\n",
    "loss_container = []\n",
    "for i in range(htd[\"steps\"]): \n",
    "    opt.zero_grad()\n",
    "    logits_running = p(new_mid_act[None, :])[0][0]  # [1, 4]\n",
    "    # print(logits_running)\n",
    "\n",
    "    logit_container.append(logits_running.detach().cpu().numpy())\n",
    "    loss = F.cross_entropy(logits_running, labels_post_intv, reduction=\"none\")\n",
    "    # loss = torch.mean(weight_mask * loss)\n",
    "    loss.backward()  # by torch semantics, loss is to be minimized\n",
    "    loss_container.append(loss.item())\n",
    "    opt.step()\n",
    "\n",
    "labels_post_intv_hat = logits_running.detach().argmax(dim=-1)  # [64]\n",
    "num_error = torch.sum(labels_post_intv_hat - labels_post_intv).item()\n",
    "\n",
    "print(\"post-intv label:\", labels_post_intv_hat)\n",
    "\n",
    "post_intv_logits = p(new_mid_act[None, :])[0].squeeze(0) # [1, 4]\n",
    "print(post_intv_logits)\n",
    "\n",
    "\n",
    "\n",
    "# swap in \n",
    "whole_mid_act[0, -1] = new_mid_act\n",
    "\n",
    "for i, layer in enumerate(range(layer_range.start, layer_range.stop - 1)):  # 4, 5, 6, 7, indices of the layers to be passed\n",
    "    print(\"LAYER\", layer+1)\n",
    "    p = probes[layer+1]\n",
    "    whole_mid_act = models[layer_range.start].forward_2nd_stage(whole_mid_act, layer, layer+1)[0]  # [1, T, F=512]\n",
    "    \n",
    "    # intervene the output of the features freshly out\n",
    "    mid_act = whole_mid_act[0, -1]\n",
    "    pre_intv_logits = p(mid_act[None, :])[0].squeeze(0)  # [1, 4]\n",
    "\n",
    "    labels_pre_intv = pre_intv_logits.detach().argmax(dim=-1)\n",
    "    new_mid_act = mid_act.clone()\n",
    "    \n",
    "    new_mid_act = torch.tensor(mid_act.detach().cpu().numpy()).cuda()\n",
    "    new_mid_act.requires_grad = True\n",
    "    opt = torch.optim.Adam([new_mid_act], lr=htd[\"lr\"])\n",
    "\n",
    "    # setting our desired player type\n",
    "    labels_post_intv = labels_pre_intv.clone()\n",
    "    labels_post_intv[0] = player_type_target\n",
    "\n",
    "    print(\"desired label:\", labels_post_intv)\n",
    "\n",
    "    logit_container = []\n",
    "    loss_container = []\n",
    "    for i in range(htd[\"steps\"]): \n",
    "        opt.zero_grad()\n",
    "        logits_running = p(new_mid_act[None, :])[0][0]  # [1, 4]\n",
    "        # print(logits_running)\n",
    "\n",
    "        logit_container.append(logits_running.detach().cpu().numpy())\n",
    "        loss = F.cross_entropy(logits_running, labels_post_intv, reduction=\"none\")\n",
    "        # loss = torch.mean(weight_mask * loss)\n",
    "        loss.backward()  # by torch semantics, loss is to be minimized\n",
    "        loss_container.append(loss.item())\n",
    "        opt.step()\n",
    "\n",
    "    v_hat = logits_running.detach().argmax(dim=-1)  # [64]\n",
    "    num_error = torch.sum(labels_post_intv_hat - labels_post_intv).item()\n",
    "\n",
    "    print(\"post-intv label:\", labels_post_intv_hat)\n",
    "\n",
    "    post_intv_logits = p(new_mid_act[None, :])[0].squeeze(0) # [1, 4]\n",
    "    print(post_intv_logits)\n",
    "\n",
    "    # swap in \n",
    "    whole_mid_act[0, -1] = new_mid_act\n",
    "\n",
    "tb_resumed = whole_mid_act\n",
    "post_intv_pred, _ = models[layer_range.start].predict(tb_resumed)\n",
    "post_intv_pred = post_intv_pred[0, -1, :]\n",
    "post_intv_pred = torch.softmax(post_intv_pred, dim=0).detach().cpu().numpy()"
   ]
  },
  {
   "cell_type": "code",
   "execution_count": 42,
   "metadata": {},
   "outputs": [
    {
     "data": {
      "image/png": "[encoded data removed]",
      "text/plain": [
       "<Figure size 800x480 with 2 Axes>"
      ]
     },
     "metadata": {},
     "output_type": "display_data"
    }
   ],
   "source": [
    "fig = draw_heatmap_from_tokens(post_intv_pred, vmax=0.2)"
   ]
  }
 ],
 "metadata": {
  "kernelspec": {
   "display_name": "othello",
   "language": "python",
   "name": "python3"
  },
  "language_info": {
   "codemirror_mode": {
    "name": "ipython",
    "version": 3
   },
   "file_extension": ".py",
   "mimetype": "text/x-python",
   "name": "python",
   "nbconvert_exporter": "python",
   "pygments_lexer": "ipython3",
   "version": "3.8.8"
  },
  "orig_nbformat": 4
 },
 "nbformat": 4,
 "nbformat_minor": 2
}
