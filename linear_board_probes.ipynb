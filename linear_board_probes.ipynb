{
 "cells": [
  {
   "cell_type": "code",
   "execution_count": 1,
   "metadata": {},
   "outputs": [],
   "source": [
    "%load_ext autoreload\n",
    "%autoreload 2"
   ]
  },
  {
   "cell_type": "code",
   "execution_count": 2,
   "metadata": {},
   "outputs": [],
   "source": [
    "# make deterministic\n",
    "from mingpt.utils import set_seed\n",
    "set_seed(42)"
   ]
  },
  {
   "cell_type": "code",
   "execution_count": 3,
   "metadata": {},
   "outputs": [],
   "source": [
    "import os\n",
    "import time\n",
    "from tqdm import tqdm\n",
    "import numpy as np\n",
    "from matplotlib import pyplot as plt\n",
    "import argparse\n",
    "import torch\n",
    "import torch.nn as nn\n",
    "from torch.nn import functional as F\n",
    "from torch.utils.data import Dataset\n",
    "from torch.utils.data.dataloader import DataLoader\n",
    "from data.othello import Othello, OthelloBoardState\n",
    "from mingpt.dataset import CharDataset\n",
    "from mingpt.model import GPT, GPTConfig, GPTforProbing\n",
    "from mingpt.probe_trainer import Trainer, TrainerConfig\n",
    "from mingpt.probe_model import BatteryProbeClassification, BatteryProbeClassificationTwoLayer"
   ]
  },
  {
   "cell_type": "markdown",
   "metadata": {},
   "source": [
    "### Evaluating linear board probes"
   ]
  },
  {
   "cell_type": "code",
   "execution_count": 4,
   "metadata": {},
   "outputs": [],
   "source": [
    "layer = 6\n",
    "model_ckpt = \"bias/TLcontrol\""
   ]
  },
  {
   "cell_type": "code",
   "execution_count": 5,
   "metadata": {},
   "outputs": [
    {
     "name": "stderr",
     "output_type": "stream",
     "text": [
      "  0%|          | 0/50 [00:00<?, ?it/s]"
     ]
    },
    {
     "name": "stderr",
     "output_type": "stream",
     "text": [
      "Mem Used: 1.131 GB:   0%|          | 0/50 [00:00<?, ?it/s]\n"
     ]
    },
    {
     "name": "stdout",
     "output_type": "stream",
     "text": [
      "Loaded 100000 from 1 files\n",
      "Using 10000 for training, 0 for validation\n",
      "Dataset created has 10000 sequences, 61 unique words.\n"
     ]
    }
   ],
   "source": [
    "othello = Othello(data_root=\"othello_synthetic\", n_games=10000, deduplicate=False, test_split=0)\n",
    "\n",
    "# player_types, games = zip(*othello)\n",
    "train_dataset = CharDataset(othello)\n",
    "\n",
    "mconf = GPTConfig(train_dataset.vocab_size, train_dataset.block_size, n_layer=8, n_head=8, n_embd=512)\n",
    "model = GPTforProbing(mconf, probe_layer=layer)\n",
    "load_res = model.load_state_dict(torch.load(f\"./ckpts/{model_ckpt}.ckpt\"))\n",
    "\n",
    "\n",
    "if torch.cuda.is_available():\n",
    "    device = torch.cuda.current_device()\n",
    "    model = model.to(device)"
   ]
  },
  {
   "cell_type": "code",
   "execution_count": 6,
   "metadata": {},
   "outputs": [
    {
     "name": "stderr",
     "output_type": "stream",
     "text": [
      "  0%|          | 0/10000 [00:00<?, ?it/s]<ipython-input-6-9a1f5b2ebd71>:25: FutureWarning: The input object of type 'Tensor' is an array-like implementing one of the corresponding protocols (`__array__`, `__array_interface__` or `__array_struct__`); but not a sequence (or 0-D). In the future, this object will be coerced as if it was first converted using `np.array(obj)`. To retain the old behaviour, you have to either modify the type 'Tensor', or assign to an empty array created with `np.empty(correct_shape, dtype=object)`.\n",
      "  act = np.array([_[0] for _ in act.split(1, dim=0)[:valid_until]])\n",
      "<ipython-input-6-9a1f5b2ebd71>:25: VisibleDeprecationWarning: Creating an ndarray from ragged nested sequences (which is a list-or-tuple of lists-or-tuples-or ndarrays with different lengths or shapes) is deprecated. If you meant to do this, you must specify 'dtype=object' when creating the ndarray.\n",
      "  act = np.array([_[0] for _ in act.split(1, dim=0)[:valid_until]])\n",
      "100%|██████████| 10000/10000 [01:13<00:00, 136.52it/s]\n"
     ]
    }
   ],
   "source": [
    "# creating dataset of activations and properties\n",
    "loader = DataLoader(train_dataset, shuffle=False, pin_memory=True, batch_size=1, num_workers=1)\n",
    "act_container = []\n",
    "property_container = []\n",
    "\n",
    "for i, (x, y) in tqdm(enumerate(loader), total=len(loader)):\n",
    "    tbf = [train_dataset.itos[_] for _ in x.tolist()[0]]\n",
    "    # truncates game if it is less than 60 moves\n",
    "    valid_until = tbf.index(-100) if -100 in tbf else 999\n",
    "\n",
    "    properties = []\n",
    "    ob = OthelloBoardState()\n",
    "    for i, move in enumerate(tbf[:valid_until]):\n",
    "        ob.update([move])\n",
    "\n",
    "        # flipping states so always from moving player's perspective\n",
    "        fixed_state = np.array(ob.get_state())\n",
    "        if ob.get_next_hand_color() == 1:\n",
    "            fixed_state = 2 - fixed_state\n",
    "        properties.append(fixed_state)\n",
    "    property_container.extend(properties)\n",
    "\n",
    "    # gets activations for each move\n",
    "    act = model(x.to(device))[0, ...].detach().cpu()  # [block_size, f]\n",
    "    act = np.array([_[0] for _ in act.split(1, dim=0)[:valid_until]])\n",
    "    act_container.extend(act)\n",
    "\n",
    "    assert len(act_container) == len(property_container)"
   ]
  },
  {
   "cell_type": "code",
   "execution_count": 7,
   "metadata": {},
   "outputs": [
    {
     "name": "stdout",
     "output_type": "stream",
     "text": [
      "589847 pairs loaded...\n",
      "y: (array([0., 1., 2.]), array([ 9213753, 17696269, 10840186]))\n"
     ]
    }
   ],
   "source": [
    "class ProbingDataset(Dataset):\n",
    "    def __init__(self, act, y):\n",
    "        assert len(act) == len(y)\n",
    "        print(f\"{len(act)} pairs loaded...\")\n",
    "        self.act = act\n",
    "        self.y = y\n",
    "        # print(np.sum(np.array(y)==0), np.sum(np.array(y)==1), np.sum(np.array(y)==2))\n",
    "        print(\"y:\", np.unique(y, return_counts=True))\n",
    "        \n",
    "    def __len__(self, ):\n",
    "        return len(self.y)\n",
    "    def __getitem__(self, idx):\n",
    "        return self.act[idx], torch.tensor(self.y[idx]).to(torch.long)\n",
    "\n",
    "probing_dataset = ProbingDataset(act_container, property_container)\n",
    "\n",
    "probe_loader = DataLoader(probing_dataset, shuffle=False, pin_memory=True, batch_size=128, num_workers=1)"
   ]
  },
  {
   "cell_type": "code",
   "execution_count": 8,
   "metadata": {},
   "outputs": [],
   "source": [
    "probe = BatteryProbeClassification(device, probe_class=3, num_task=64)\n",
    "load_res = probe.load_state_dict(torch.load(f\"./ckpts/bias/probes/state/layer{layer}/checkpoint.ckpt\"))\n",
    "\n",
    "probe = probe.to(device)"
   ]
  },
  {
   "cell_type": "code",
   "execution_count": 9,
   "metadata": {},
   "outputs": [
    {
     "name": "stderr",
     "output_type": "stream",
     "text": [
      "0.97844% correct:   0%|          | 20/4609 [00:00<00:23, 196.70it/s]"
     ]
    },
    {
     "name": "stderr",
     "output_type": "stream",
     "text": [
      "0.97951% correct: 100%|██████████| 4609/4609 [00:09<00:00, 490.02it/s]"
     ]
    },
    {
     "name": "stdout",
     "output_type": "stream",
     "text": [
      "589847\n",
      "[576371. 582143. 581946. 582739. 581937. 582377. 582177. 582412. 581503.\n",
      " 580546. 577970. 576918. 576786. 578917. 581434. 582210. 580729. 578120.\n",
      " 573501. 569958. 570065. 574714. 579118. 581773. 582683. 577304. 570612.\n",
      " 564032. 565104. 570389. 577189. 583142. 582634. 577286. 570551. 565025.\n",
      " 564615. 569964. 577301. 583002. 582970. 578653. 574812. 570665. 570686.\n",
      " 574330. 578696. 582357. 579852. 580844. 579217. 577245. 577210. 579020.\n",
      " 580757. 578786. 582935. 579399. 580850. 582543. 582705. 582132. 582042.\n",
      " 580778.]\n"
     ]
    },
    {
     "name": "stderr",
     "output_type": "stream",
     "text": [
      "\n"
     ]
    }
   ],
   "source": [
    "total_games = 0\n",
    "total_correct = np.zeros(64)\n",
    "\n",
    "pbar = tqdm(probe_loader, total=len(probe_loader))\n",
    "for x, y in pbar:\n",
    "    x = x.to(device)  # [B, f]\n",
    "    y = y.to(device)  # [B, #task=64] \n",
    "\n",
    "    logits, loss = probe(x, y)\n",
    "    pred = torch.argmax(logits, dim=2)\n",
    "\n",
    "    correct = torch.sum(pred == y, dim=0)\n",
    "    correct = correct.detach().cpu().numpy()\n",
    "    np.add(total_correct, correct, out=total_correct)\n",
    "\n",
    "    total_games += x.shape[0]\n",
    "\n",
    "    pbar.set_description(f\"{sum(total_correct) / (total_games * 64):.5f}% correct\")\n",
    "\n",
    "print(total_games)\n",
    "print(total_correct)"
   ]
  },
  {
   "cell_type": "code",
   "execution_count": 10,
   "metadata": {},
   "outputs": [
    {
     "data": {
      "text/plain": [
       "<AxesSubplot:>"
      ]
     },
     "execution_count": 10,
     "metadata": {},
     "output_type": "execute_result"
    },
    {
     "data": {
      "image/png": "[encoded data removed]",
      "text/plain": [
       "<Figure size 800x480 with 2 Axes>"
      ]
     },
     "metadata": {},
     "output_type": "display_data"
    }
   ],
   "source": [
    "import seaborn as sns\n",
    "\n",
    "avg = total_correct / total_games\n",
    "fig=plt.figure(figsize=(10, 6), dpi= 80, facecolor='w', edgecolor='k')\n",
    "sns.heatmap(avg.reshape(8, 8), vmin=0,\n",
    "            yticklabels=list(\"ABCDEFGH\"), xticklabels=list(range(1,9)), square=True, \n",
    "            annot=True, fmt=\".3f\")"
   ]
  }
 ],
 "metadata": {
  "kernelspec": {
   "display_name": "othello",
   "language": "python",
   "name": "python3"
  },
  "language_info": {
   "codemirror_mode": {
    "name": "ipython",
    "version": 3
   },
   "file_extension": ".py",
   "mimetype": "text/x-python",
   "name": "python",
   "nbconvert_exporter": "python",
   "pygments_lexer": "ipython3",
   "version": "3.8.8"
  },
  "orig_nbformat": 4
 },
 "nbformat": 4,
 "nbformat_minor": 2
}
