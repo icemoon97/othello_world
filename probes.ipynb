{
 "cells": [
  {
   "cell_type": "code",
   "execution_count": 1,
   "metadata": {},
   "outputs": [],
   "source": [
    "%load_ext autoreload\n",
    "%autoreload 2"
   ]
  },
  {
   "cell_type": "code",
   "execution_count": 2,
   "metadata": {},
   "outputs": [],
   "source": [
    "# make deterministic\n",
    "from mingpt.utils import set_seed\n",
    "set_seed(44)"
   ]
  },
  {
   "cell_type": "code",
   "execution_count": 3,
   "metadata": {},
   "outputs": [],
   "source": [
    "import json\n",
    "import time\n",
    "from tqdm import tqdm\n",
    "import numpy as np\n",
    "from matplotlib import pyplot as plt\n",
    "import torch\n",
    "import torch.nn as nn\n",
    "from torch.nn import functional as F\n",
    "from torch.utils.data import Dataset\n",
    "from torch.utils.data.dataloader import DataLoader\n",
    "from data.othello import Othello, OthelloBoardState\n",
    "from mingpt.dataset import CharDataset\n",
    "from mingpt.model import GPT, GPTConfig, GPTforProbing\n",
    "from mingpt.probe_trainer import Trainer, TrainerConfig\n",
    "from mingpt.probe_model import BatteryProbeClassification, BatteryProbeClassificationTwoLayer"
   ]
  },
  {
   "cell_type": "code",
   "execution_count": 8,
   "metadata": {},
   "outputs": [],
   "source": [
    "# loading probes\n",
    "exp = \"state_tl256_e40\"\n",
    "probes = {}\n",
    "for layer in range(1, 9):\n",
    "    p = BatteryProbeClassificationTwoLayer(torch.cuda.current_device(), probe_class=3, num_task=64, mid_dim=256)\n",
    "    load_res = p.load_state_dict(torch.load(f\"./ckpts/grok/probes/{exp}/layer{layer}/checkpoint.ckpt\"))\n",
    "    p.eval()\n",
    "    probes[layer] = p"
   ]
  },
  {
   "cell_type": "code",
   "execution_count": null,
   "metadata": {},
   "outputs": [],
   "source": [
    "othello = Othello(n_games=100, deduplicate=False)\n",
    "train_dataset = CharDataset(othello)\n",
    "\n",
    "mconf = GPTConfig(61, 59, n_layer=8, n_head=8, n_embd=512)\n",
    "model = GPTforProbing(mconf)"
   ]
  },
  {
   "cell_type": "code",
   "execution_count": 4,
   "metadata": {},
   "outputs": [
    {
     "name": "stdout",
     "output_type": "stream",
     "text": [
      "20.731401647594826, 17.801225762873486, 16.90723339160839, 17.143346710108077, 17.491358073744433, 18.251698585505405, 19.345117477219752, 21.353305785123965\n"
     ]
    }
   ],
   "source": [
    "# summarizing probe loss\n",
    "\n",
    "root = f\"ckpts/bias/probes/state_tl256_b95\"\n",
    "errs = []\n",
    "for i in range(8):\n",
    "    name = f\"layer{i+1}/tensorboard.txt\"\n",
    "    with open(f\"{root}/{name}\", \"r\") as file:\n",
    "        j = json.load(file)\n",
    "        test_acc = j['test_acc_cont']\n",
    "        err = 100 * (1 - test_acc[-1])\n",
    "        errs.append(err)\n",
    "        # print(f\"layer {i+1} error rate: {err:.5f}\")\n",
    "\n",
    "print(\", \".join([str(e) for e in errs]))"
   ]
  },
  {
   "cell_type": "code",
   "execution_count": 12,
   "metadata": {},
   "outputs": [
    {
     "data": {
      "image/png": "[encoded data removed]",
      "text/plain": [
       "<Figure size 432x288 with 1 Axes>"
      ]
     },
     "metadata": {
      "needs_background": "light"
     },
     "output_type": "display_data"
    }
   ],
   "source": [
    "root = f\"ckpts/bias/probes/state_tl256_b95\"\n",
    "with open(f\"{root}/layer6/tensorboard.txt\") as file:\n",
    "    j = json.load(file)\n",
    "    strat = j['test_strat_acc_cont'][-1]\n",
    "    plt.bar(range(len(strat)), strat)"
   ]
  },
  {
   "cell_type": "markdown",
   "metadata": {},
   "source": [
    "## Attempting to get probe accuracy per board square"
   ]
  },
  {
   "cell_type": "code",
   "execution_count": 10,
   "metadata": {},
   "outputs": [],
   "source": [
    "layer = 6\n",
    "model_ckpt = \"bias/TLcontrol\""
   ]
  },
  {
   "cell_type": "code",
   "execution_count": 11,
   "metadata": {},
   "outputs": [
    {
     "name": "stderr",
     "output_type": "stream",
     "text": [
      "Mem Used: 7.809 GB:   0%|          | 0/50 [00:00<?, ?it/s]\n"
     ]
    },
    {
     "name": "stdout",
     "output_type": "stream",
     "text": [
      "Loaded 100000 from 1 files\n",
      "Using 8000 for training, 2000 for validation\n",
      "Dataset created has 8000 sequences, 61 unique words.\n"
     ]
    },
    {
     "name": "stderr",
     "output_type": "stream",
     "text": [
      "100%|██████████| 8000/8000 [01:14<00:00, 107.11it/s]\n",
      "100%|██████████| 8000/8000 [00:36<00:00, 217.09it/s]\n"
     ]
    }
   ],
   "source": [
    "# loading games and creating activation dataset for probe\n",
    "othello = Othello(n_games=10000, deduplicate=False)\n",
    "train_dataset = CharDataset(othello)\n",
    "\n",
    "mconf = GPTConfig(train_dataset.vocab_size, train_dataset.block_size, n_layer=8, n_head=8, n_embd=512)\n",
    "model = GPTforProbing(mconf, probe_layer=layer)\n",
    "\n",
    "# model.apply(model._init_weights)\n",
    "load_res = model.load_state_dict(torch.load(f\"./ckpts/{model_ckpt}.ckpt\"))\n",
    "if torch.cuda.is_available():\n",
    "    device = torch.cuda.current_device()\n",
    "    model = model.to(device)\n",
    "\n",
    "loader = DataLoader(train_dataset, shuffle=False, pin_memory=True, batch_size=1, num_workers=1)\n",
    "act_container = []\n",
    "property_container = []\n",
    "for x, y in tqdm(loader, total=len(loader)):\n",
    "    tbf = [train_dataset.itos[_] for _ in x.tolist()[0]]\n",
    "    valid_until = tbf.index(-100) if -100 in tbf else 999\n",
    "    a = OthelloBoardState()\n",
    "    properties = a.get_gt(tbf[:valid_until], \"get_state\")  # [block_size, ]\n",
    "    act = model(x.to(device))[0, ...].detach().cpu()  # [block_size, f]\n",
    "    act_container.extend([_[0] for _ in act.split(1, dim=0)[:valid_until]])\n",
    "    property_container.extend(properties)\n",
    "    \n",
    "age_container = []\n",
    "for x, y in tqdm(loader, total=len(loader)):\n",
    "    tbf = [train_dataset.itos[_] for _ in x.tolist()[0]]\n",
    "    valid_until = tbf.index(-100) if -100 in tbf else 999\n",
    "    a = OthelloBoardState()\n",
    "    ages = a.get_gt(tbf[:valid_until], \"get_age\")  # [block_size, ]\n",
    "    age_container.extend(ages)"
   ]
  },
  {
   "cell_type": "code",
   "execution_count": 12,
   "metadata": {},
   "outputs": [
    {
     "name": "stdout",
     "output_type": "stream",
     "text": [
      "471899 pairs loaded...\n",
      "7900614 14157547 8143375\n",
      "[1515459, 1782766, 1735715, 1529575, 1490261, 1324987, 1291229, 1157087, 1126770, 1016684, 989354, 898492, 873776, 797248, 774466, 709746, 689250, 634482, 615451, 568703, 550901, 510919, 494426, 459572, 444106, 413969, 399394, 372739, 359007, 335862, 322864, 302437, 290069, 271827, 260024, 243673, 232356, 217552, 206741, 193286, 182855, 170521, 160473, 149129, 139490, 128866, 119519, 109664, 100579, 91207, 82415, 73485, 65011, 56543, 48286, 40123, 32075, 24039, 16022, 8009]\n"
     ]
    }
   ],
   "source": [
    "class ProbingDataset(Dataset):\n",
    "    def __init__(self, act, y, age):\n",
    "        assert len(act) == len(y)\n",
    "        assert len(act) == len(age)\n",
    "        print(f\"{len(act)} pairs loaded...\")\n",
    "        self.act = act\n",
    "        self.y = y\n",
    "        self.age = age\n",
    "        print(np.sum(np.array(y)==0), np.sum(np.array(y)==1), np.sum(np.array(y)==2))\n",
    "        \n",
    "        long_age = []\n",
    "        for a in age:\n",
    "            long_age.extend(a)\n",
    "        long_age = np.array(long_age)\n",
    "        counts = [np.count_nonzero(long_age == i) for i in range(60)]\n",
    "        del long_age\n",
    "        print(counts)\n",
    "    def __len__(self, ):\n",
    "        return len(self.y)\n",
    "    def __getitem__(self, idx):\n",
    "        return self.act[idx], torch.tensor(self.y[idx]).to(torch.long), torch.tensor(self.age[idx]).to(torch.long)\n",
    "\n",
    "probing_dataset = ProbingDataset(act_container, property_container, age_container)\n",
    "train_size = int(0.8 * len(probing_dataset))\n",
    "test_size = len(probing_dataset) - train_size\n",
    "train_dataset, test_dataset = torch.utils.data.random_split(probing_dataset, [train_size, test_size])\n",
    "sampler = None\n",
    "train_loader = DataLoader(train_dataset, shuffle=False, sampler=sampler, pin_memory=True, batch_size=128, num_workers=1)\n",
    "test_loader = DataLoader(test_dataset, shuffle=True, pin_memory=True, batch_size=128, num_workers=1)"
   ]
  },
  {
   "cell_type": "code",
   "execution_count": 19,
   "metadata": {},
   "outputs": [],
   "source": [
    "probe = BatteryProbeClassificationTwoLayer(device, probe_class=3, num_task=64, mid_dim=256)\n",
    "load_res = probe.load_state_dict(torch.load(f\"./ckpts/bias/probes/state_tl256_b95/layer6/checkpoint.ckpt\"))\n",
    "\n",
    "probe = probe.to(device)"
   ]
  },
  {
   "cell_type": "code",
   "execution_count": 20,
   "metadata": {},
   "outputs": [
    {
     "name": "stderr",
     "output_type": "stream",
     "text": [
      "100%|██████████| 2950/2950 [00:18<00:00, 162.35it/s]"
     ]
    },
    {
     "name": "stdout",
     "output_type": "stream",
     "text": [
      "377519\n",
      "[184719. 193411. 175707. 191733. 176125. 223084. 198698. 275955. 224887.\n",
      " 173631. 177759. 157933. 175554. 168152. 237871. 207437. 177013. 203367.\n",
      " 173887. 183768. 203081. 195664. 196795. 240319. 209205. 197782. 200571.\n",
      " 196147. 198357. 178648. 203443. 205199. 181141. 181094. 181667. 212034.\n",
      " 198646. 182083. 205526. 212140. 217410. 201665. 169779. 186657. 165290.\n",
      " 168094. 211144. 241278. 227407. 224825. 201325. 202618. 191892. 188920.\n",
      " 216550. 260025. 279265. 266223. 238088. 228338. 224214. 233960. 253722.\n",
      " 277843.]\n",
      "0.5437129074960465\n"
     ]
    },
    {
     "name": "stderr",
     "output_type": "stream",
     "text": [
      "\n"
     ]
    }
   ],
   "source": [
    "total_games = 0\n",
    "total_correct = np.zeros(64)\n",
    "\n",
    "pbar = tqdm(enumerate(train_loader), total=len(train_loader))\n",
    "for it, (x, y, age) in pbar:\n",
    "    x = x.to(device)  # [B, f]\n",
    "    y = y.to(device)  # [B, #task=64] \n",
    "    age = age.to(device)  # [B, #task=64], in 0--59\n",
    "\n",
    "    logits, loss = probe(x, y)\n",
    "    pred = torch.argmax(logits, dim=2)\n",
    "\n",
    "    correct = torch.sum(pred == y, dim=0)\n",
    "    correct = correct.detach().cpu().numpy()\n",
    "    np.add(total_correct, correct, out=total_correct)\n",
    "\n",
    "    total_games += x.shape[0]\n",
    "\n",
    "print(total_games)\n",
    "print(total_correct)\n",
    "print(sum(total_correct) / (total_games * 64))\n"
   ]
  },
  {
   "cell_type": "code",
   "execution_count": 21,
   "metadata": {},
   "outputs": [
    {
     "data": {
      "text/plain": [
       "<AxesSubplot:>"
      ]
     },
     "execution_count": 21,
     "metadata": {},
     "output_type": "execute_result"
    },
    {
     "data": {
      "image/png": "[encoded data removed]",
      "text/plain": [
       "<Figure size 800x480 with 2 Axes>"
      ]
     },
     "metadata": {},
     "output_type": "display_data"
    }
   ],
   "source": [
    "import seaborn as sns\n",
    "\n",
    "avg = total_correct / total_games\n",
    "fig=plt.figure(figsize=(10, 6), dpi= 80, facecolor='w', edgecolor='k')\n",
    "sns.heatmap(avg.reshape(8, 8), vmax=1,\n",
    "            yticklabels=list(\"ABCDEFGH\"), xticklabels=list(range(1,9)), square=True, \n",
    "            annot=True, fmt=\".3f\")"
   ]
  }
 ],
 "metadata": {
  "kernelspec": {
   "display_name": "othello",
   "language": "python",
   "name": "python3"
  },
  "language_info": {
   "codemirror_mode": {
    "name": "ipython",
    "version": 3
   },
   "file_extension": ".py",
   "mimetype": "text/x-python",
   "name": "python",
   "nbconvert_exporter": "python",
   "pygments_lexer": "ipython3",
   "version": "3.8.8"
  },
  "orig_nbformat": 4
 },
 "nbformat": 4,
 "nbformat_minor": 2
}
