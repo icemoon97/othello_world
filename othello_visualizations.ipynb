{
 "cells": [
  {
   "cell_type": "code",
   "execution_count": 1,
   "metadata": {},
   "outputs": [],
   "source": [
    "%load_ext autoreload\n",
    "%autoreload 2"
   ]
  },
  {
   "cell_type": "code",
   "execution_count": 2,
   "metadata": {},
   "outputs": [],
   "source": [
    "# make deterministic\n",
    "from mingpt.utils import set_seed\n",
    "set_seed(44)"
   ]
  },
  {
   "cell_type": "code",
   "execution_count": 1,
   "metadata": {},
   "outputs": [],
   "source": [
    "import os\n",
    "import math\n",
    "import time\n",
    "from tqdm import tqdm\n",
    "import seaborn as sns\n",
    "from matplotlib import pyplot as plt\n",
    "import numpy as np\n",
    "import torch\n",
    "import torch.nn as nn\n",
    "from torch.utils.data.dataloader import DataLoader\n",
    "from data.othello import Othello, OthelloBoardState, permit_reverse\n",
    "from mingpt.dataset import CharDataset\n",
    "from mingpt.utils import sample\n",
    "from mingpt.model import GPT, GPTConfig\n",
    "from mingpt.trainer import Trainer, TrainerConfig"
   ]
  },
  {
   "cell_type": "code",
   "execution_count": 4,
   "metadata": {},
   "outputs": [],
   "source": [
    "def load_othello_model(ckpt):\n",
    "    # original OthelloGPT params: n_layer=8, n_head=8, n_embd=512\n",
    "    # vocab_size = 59, block_size = 61 for othello\n",
    "    mconf = GPTConfig(61, 59, n_layer=8, n_head=8, n_embd=512)\n",
    "    model = GPT(mconf)\n",
    "    load_res = model.load_state_dict(torch.load(f\"./ckpts/{ckpt}.ckpt\"))\n",
    "    if torch.cuda.is_available():\n",
    "        device = torch.cuda.current_device()\n",
    "        model = model.to(device)\n",
    "        return model, device\n",
    "    else:\n",
    "        print(\"NO GPU FOUND\")"
   ]
  },
  {
   "cell_type": "code",
   "execution_count": 55,
   "metadata": {},
   "outputs": [],
   "source": [
    "def draw_heatmap(token_pred):\n",
    "    # take off first token, as it isn't a board position\n",
    "    token_pred = token_pred[1:]\n",
    "    # add padding to get from tokens -> board positions\n",
    "    padding = np.zeros(2)\n",
    "    board = np.concatenate([token_pred[:27], padding, token_pred[27:33], padding, token_pred[33:]], axis=0)\n",
    "    # plotting\n",
    "    fig=plt.figure(figsize=(10, 6), dpi= 80, facecolor='w', edgecolor='k')\n",
    "    sns.heatmap(board.reshape(8, 8),\n",
    "            yticklabels=list(\"ABCDEFGH\"), xticklabels=list(range(1,9)), square=True, \n",
    "            annot=True, fmt=\".2f\")"
   ]
  },
  {
   "cell_type": "code",
   "execution_count": 68,
   "metadata": {},
   "outputs": [
    {
     "name": "stderr",
     "output_type": "stream",
     "text": [
      "Mem Used: 4.287 GB:   0%|          | 0/50 [00:00<?, ?it/s]\n"
     ]
    },
    {
     "name": "stdout",
     "output_type": "stream",
     "text": [
      "Loaded 100000 from 1 files\n",
      "Using 1000 for training, 0 for validation\n",
      "Dataset created has 1000 sequences, 61 unique words.\n"
     ]
    }
   ],
   "source": [
    "# calculating illegal probability share\n",
    "othello = Othello(data_root=\"othello_TLbias80\", n_games=1000, test_split=0, deduplicate=False)\n",
    "train_dataset = CharDataset(othello)\n",
    "loader = DataLoader(train_dataset, shuffle=True, pin_memory=True,\n",
    "                                batch_size=64,\n",
    "                                num_workers=0)\n",
    "\n",
    "model, device = load_othello_model(\"bias/TLbias50\")\n",
    "\n"
   ]
  },
  {
   "cell_type": "code",
   "execution_count": 71,
   "metadata": {},
   "outputs": [
    {
     "name": "stderr",
     "output_type": "stream",
     "text": [
      "  0%|          | 0/16 [00:00<?, ?it/s]"
     ]
    },
    {
     "name": "stderr",
     "output_type": "stream",
     "text": [
      "100%|██████████| 16/16 [00:31<00:00,  1.99s/it]\n"
     ]
    },
    {
     "data": {
      "text/plain": [
       "<BarContainer object of 59 artists>"
      ]
     },
     "execution_count": 71,
     "metadata": {},
     "output_type": "execute_result"
    },
    {
     "data": {
      "image/png": "[encoded data removed]",
      "text/plain": [
       "<Figure size 432x288 with 1 Axes>"
      ]
     },
     "metadata": {
      "needs_background": "light"
     },
     "output_type": "display_data"
    }
   ],
   "source": [
    "# device = torch.cuda.current_device()\n",
    "stoi = np.vectorize(train_dataset.stoi.get) # othello move to token\n",
    "itos = np.vectorize(train_dataset.itos.get) # token to othello move\n",
    "\n",
    "batched_pred = np.zeros((59, 61))\n",
    "\n",
    "for x, y in tqdm(loader):\n",
    "    # saving board positions for updating game state\n",
    "    moves = x.numpy()\n",
    "    moves = itos(moves)\n",
    "\n",
    "    x = x.to(device)  # [B, T]\n",
    "    y = y.to(device)  # [B, T]\n",
    "    logits, loss = model(x, y)\n",
    "    \n",
    "    logits = torch.softmax(logits, dim=2)\n",
    "    pred = logits.detach().cpu().numpy()\n",
    "    # pred is [batch size, block_size (59 for normal othello setup), vocab_size (61 for normal othello setup)]\n",
    "    # print(pred.shape)\n",
    "\n",
    "    legal_mask = np.zeros(pred.shape)\n",
    "    for game in range(pred.shape[0]):\n",
    "        ob = OthelloBoardState()\n",
    "        # print(moves[game])\n",
    "        for i, m in enumerate(moves[game]):\n",
    "            if m == -100:\n",
    "                break\n",
    "            ob.update([m])\n",
    "            valid = ob.get_valid_moves()\n",
    "            if valid:\n",
    "                legal_mask[game, i, stoi(valid)] = 1\n",
    "\n",
    "    # legal_prob = pred * legal_mask\n",
    "    illegal_prob = pred * (1 - legal_mask)\n",
    "\n",
    "    np.add(batched_pred, illegal_prob.sum(axis=0), out=batched_pred)\n",
    "\n",
    "\n",
    "# draw_heatmap(board_mass.sum(axis=0))\n",
    "\n",
    "# move_mass = batched_pred.sum(axis=1)\n",
    "# plt.bar(range(len(move_mass)), move_mass)"
   ]
  },
  {
   "cell_type": "code",
   "execution_count": 72,
   "metadata": {},
   "outputs": [],
   "source": [
    "def calc_batched_pred(model_ckpt, dataset):\n",
    "    othello = Othello(data_root=dataset, n_games=1000, test_split=0, deduplicate=False)\n",
    "    train_dataset = CharDataset(othello)\n",
    "    loader = DataLoader(train_dataset, shuffle=True, pin_memory=True,\n",
    "                                    batch_size=64,\n",
    "                                    num_workers=0)\n",
    "\n",
    "    model, device = load_othello_model(model_ckpt)\n",
    "\n",
    "    # device = torch.cuda.current_device()\n",
    "    stoi = np.vectorize(train_dataset.stoi.get) # othello move to token\n",
    "    itos = np.vectorize(train_dataset.itos.get) # token to othello move\n",
    "\n",
    "    batched_pred = np.zeros((59, 61))\n",
    "\n",
    "    for x, y in tqdm(loader):\n",
    "        # saving board positions for updating game state\n",
    "        moves = x.numpy()\n",
    "        moves = itos(moves)\n",
    "\n",
    "        x = x.to(device)  # [B, T]\n",
    "        y = y.to(device)  # [B, T]\n",
    "        logits, loss = model(x, y)\n",
    "        \n",
    "        logits = torch.softmax(logits, dim=2)\n",
    "        pred = logits.detach().cpu().numpy()\n",
    "        # pred is [batch size, block_size (59 for normal othello setup), vocab_size (61 for normal othello setup)]\n",
    "        # print(pred.shape)\n",
    "\n",
    "        legal_mask = np.zeros(pred.shape)\n",
    "        for game in range(pred.shape[0]):\n",
    "            ob = OthelloBoardState()\n",
    "            # print(moves[game])\n",
    "            for i, m in enumerate(moves[game]):\n",
    "                if m == -100:\n",
    "                    break\n",
    "                ob.update([m])\n",
    "                valid = ob.get_valid_moves()\n",
    "                if valid:\n",
    "                    legal_mask[game, i, stoi(valid)] = 1\n",
    "\n",
    "        # legal_prob = pred * legal_mask\n",
    "        illegal_prob = pred * (1 - legal_mask)\n",
    "\n",
    "        np.add(batched_pred, illegal_prob.sum(axis=0), out=batched_pred)\n",
    "\n",
    "    return batched_pred"
   ]
  },
  {
   "cell_type": "code",
   "execution_count": 76,
   "metadata": {},
   "outputs": [
    {
     "name": "stderr",
     "output_type": "stream",
     "text": [
      "  0%|          | 0/50 [00:00<?, ?it/s]"
     ]
    },
    {
     "name": "stdout",
     "output_type": "stream",
     "text": [
      "======== ckpt: control | data: synthetic =========\n"
     ]
    },
    {
     "name": "stderr",
     "output_type": "stream",
     "text": [
      "Mem Used: 4.289 GB:   0%|          | 0/50 [00:00<?, ?it/s]\n"
     ]
    },
    {
     "name": "stdout",
     "output_type": "stream",
     "text": [
      "Loaded 100000 from 1 files\n",
      "Using 1000 for training, 0 for validation\n",
      "Dataset created has 1000 sequences, 61 unique words.\n"
     ]
    },
    {
     "name": "stderr",
     "output_type": "stream",
     "text": [
      "100%|██████████| 16/16 [00:32<00:00,  2.05s/it]\n",
      "  0%|          | 0/50 [00:00<?, ?it/s]"
     ]
    },
    {
     "name": "stdout",
     "output_type": "stream",
     "text": [
      "======== ckpt: control | data: TLbias50 =========\n"
     ]
    },
    {
     "name": "stderr",
     "output_type": "stream",
     "text": [
      "Mem Used: 4.289 GB:   0%|          | 0/50 [00:00<?, ?it/s]\n"
     ]
    },
    {
     "name": "stdout",
     "output_type": "stream",
     "text": [
      "Loaded 100000 from 1 files\n",
      "Using 1000 for training, 0 for validation\n",
      "Dataset created has 1000 sequences, 61 unique words.\n"
     ]
    },
    {
     "name": "stderr",
     "output_type": "stream",
     "text": [
      "100%|██████████| 16/16 [00:32<00:00,  2.01s/it]\n",
      "  0%|          | 0/50 [00:00<?, ?it/s]"
     ]
    },
    {
     "name": "stdout",
     "output_type": "stream",
     "text": [
      "======== ckpt: control | data: TLbias80 =========\n"
     ]
    },
    {
     "name": "stderr",
     "output_type": "stream",
     "text": [
      "Mem Used: 4.29 GB:   0%|          | 0/50 [00:00<?, ?it/s]\n"
     ]
    },
    {
     "name": "stdout",
     "output_type": "stream",
     "text": [
      "Loaded 100000 from 1 files\n",
      "Using 1000 for training, 0 for validation\n",
      "Dataset created has 1000 sequences, 61 unique words.\n"
     ]
    },
    {
     "name": "stderr",
     "output_type": "stream",
     "text": [
      "100%|██████████| 16/16 [00:31<00:00,  1.98s/it]\n",
      "  0%|          | 0/18 [00:00<?, ?it/s]"
     ]
    },
    {
     "name": "stdout",
     "output_type": "stream",
     "text": [
      "======== ckpt: control | data: TLbias95 =========\n"
     ]
    },
    {
     "name": "stderr",
     "output_type": "stream",
     "text": [
      "Mem Used: 4.29 GB:   0%|          | 0/18 [00:00<?, ?it/s]\n"
     ]
    },
    {
     "name": "stdout",
     "output_type": "stream",
     "text": [
      "Loaded 100000 from 1 files\n",
      "Using 1000 for training, 0 for validation\n",
      "Dataset created has 1000 sequences, 61 unique words.\n"
     ]
    },
    {
     "name": "stderr",
     "output_type": "stream",
     "text": [
      "100%|██████████| 16/16 [00:31<00:00,  1.98s/it]\n",
      "Mem Used: 4.289 GB:   0%|          | 0/50 [00:00<?, ?it/s]"
     ]
    },
    {
     "name": "stdout",
     "output_type": "stream",
     "text": [
      "======== ckpt: bias50 | data: synthetic =========\n"
     ]
    },
    {
     "name": "stderr",
     "output_type": "stream",
     "text": [
      "\n"
     ]
    },
    {
     "name": "stdout",
     "output_type": "stream",
     "text": [
      "Loaded 100000 from 1 files\n",
      "Using 1000 for training, 0 for validation\n",
      "Dataset created has 1000 sequences, 61 unique words.\n"
     ]
    },
    {
     "name": "stderr",
     "output_type": "stream",
     "text": [
      "100%|██████████| 16/16 [00:32<00:00,  2.04s/it]\n",
      "  0%|          | 0/50 [00:00<?, ?it/s]"
     ]
    },
    {
     "name": "stdout",
     "output_type": "stream",
     "text": [
      "======== ckpt: bias50 | data: TLbias50 =========\n"
     ]
    },
    {
     "name": "stderr",
     "output_type": "stream",
     "text": [
      "Mem Used: 4.289 GB:   0%|          | 0/50 [00:00<?, ?it/s]\n"
     ]
    },
    {
     "name": "stdout",
     "output_type": "stream",
     "text": [
      "Loaded 100000 from 1 files\n",
      "Using 1000 for training, 0 for validation\n",
      "Dataset created has 1000 sequences, 61 unique words.\n"
     ]
    },
    {
     "name": "stderr",
     "output_type": "stream",
     "text": [
      "100%|██████████| 16/16 [00:32<00:00,  2.01s/it]\n",
      "Mem Used: 4.29 GB:   0%|          | 0/50 [00:00<?, ?it/s]\n"
     ]
    },
    {
     "name": "stdout",
     "output_type": "stream",
     "text": [
      "======== ckpt: bias50 | data: TLbias80 =========\n",
      "Loaded 100000 from 1 files\n",
      "Using 1000 for training, 0 for validation\n",
      "Dataset created has 1000 sequences, 61 unique words.\n"
     ]
    },
    {
     "name": "stderr",
     "output_type": "stream",
     "text": [
      "100%|██████████| 16/16 [00:31<00:00,  1.99s/it]\n",
      "Mem Used: 4.29 GB:   0%|          | 0/18 [00:00<?, ?it/s]\n"
     ]
    },
    {
     "name": "stdout",
     "output_type": "stream",
     "text": [
      "======== ckpt: bias50 | data: TLbias95 =========\n",
      "Loaded 100000 from 1 files\n",
      "Using 1000 for training, 0 for validation\n",
      "Dataset created has 1000 sequences, 61 unique words.\n"
     ]
    },
    {
     "name": "stderr",
     "output_type": "stream",
     "text": [
      "100%|██████████| 16/16 [00:31<00:00,  1.99s/it]\n",
      "  0%|          | 0/50 [00:00<?, ?it/s]"
     ]
    },
    {
     "name": "stdout",
     "output_type": "stream",
     "text": [
      "======== ckpt: bias80 | data: synthetic =========\n"
     ]
    },
    {
     "name": "stderr",
     "output_type": "stream",
     "text": [
      "Mem Used: 4.289 GB:   0%|          | 0/50 [00:00<?, ?it/s]\n"
     ]
    },
    {
     "name": "stdout",
     "output_type": "stream",
     "text": [
      "Loaded 100000 from 1 files\n",
      "Using 1000 for training, 0 for validation\n",
      "Dataset created has 1000 sequences, 61 unique words.\n"
     ]
    },
    {
     "name": "stderr",
     "output_type": "stream",
     "text": [
      "100%|██████████| 16/16 [00:32<00:00,  2.05s/it]\n",
      "  0%|          | 0/50 [00:00<?, ?it/s]"
     ]
    },
    {
     "name": "stdout",
     "output_type": "stream",
     "text": [
      "======== ckpt: bias80 | data: TLbias50 =========\n"
     ]
    },
    {
     "name": "stderr",
     "output_type": "stream",
     "text": [
      "Mem Used: 4.289 GB:   0%|          | 0/50 [00:00<?, ?it/s]\n"
     ]
    },
    {
     "name": "stdout",
     "output_type": "stream",
     "text": [
      "Loaded 100000 from 1 files\n",
      "Using 1000 for training, 0 for validation\n",
      "Dataset created has 1000 sequences, 61 unique words.\n"
     ]
    },
    {
     "name": "stderr",
     "output_type": "stream",
     "text": [
      "100%|██████████| 16/16 [00:32<00:00,  2.02s/it]\n",
      "  0%|          | 0/50 [00:00<?, ?it/s]"
     ]
    },
    {
     "name": "stdout",
     "output_type": "stream",
     "text": [
      "======== ckpt: bias80 | data: TLbias80 =========\n"
     ]
    },
    {
     "name": "stderr",
     "output_type": "stream",
     "text": [
      "Mem Used: 4.29 GB:   0%|          | 0/50 [00:00<?, ?it/s]\n"
     ]
    },
    {
     "name": "stdout",
     "output_type": "stream",
     "text": [
      "Loaded 100000 from 1 files\n",
      "Using 1000 for training, 0 for validation\n",
      "Dataset created has 1000 sequences, 61 unique words.\n"
     ]
    },
    {
     "name": "stderr",
     "output_type": "stream",
     "text": [
      "100%|██████████| 16/16 [00:31<00:00,  1.99s/it]\n",
      "  0%|          | 0/18 [00:00<?, ?it/s]"
     ]
    },
    {
     "name": "stdout",
     "output_type": "stream",
     "text": [
      "======== ckpt: bias80 | data: TLbias95 =========\n"
     ]
    },
    {
     "name": "stderr",
     "output_type": "stream",
     "text": [
      "Mem Used: 4.289 GB:   0%|          | 0/18 [00:00<?, ?it/s]\n"
     ]
    },
    {
     "name": "stdout",
     "output_type": "stream",
     "text": [
      "Loaded 100000 from 1 files\n",
      "Using 1000 for training, 0 for validation\n",
      "Dataset created has 1000 sequences, 61 unique words.\n"
     ]
    },
    {
     "name": "stderr",
     "output_type": "stream",
     "text": [
      "100%|██████████| 16/16 [00:31<00:00,  1.98s/it]\n",
      "  0%|          | 0/50 [00:00<?, ?it/s]"
     ]
    },
    {
     "name": "stdout",
     "output_type": "stream",
     "text": [
      "======== ckpt: bias95 | data: synthetic =========\n"
     ]
    },
    {
     "name": "stderr",
     "output_type": "stream",
     "text": [
      "Mem Used: 4.289 GB:   0%|          | 0/50 [00:00<?, ?it/s]\n"
     ]
    },
    {
     "name": "stdout",
     "output_type": "stream",
     "text": [
      "Loaded 100000 from 1 files\n",
      "Using 1000 for training, 0 for validation\n",
      "Dataset created has 1000 sequences, 61 unique words.\n"
     ]
    },
    {
     "name": "stderr",
     "output_type": "stream",
     "text": [
      "100%|██████████| 16/16 [00:32<00:00,  2.06s/it]\n",
      "Mem Used: 4.289 GB:   0%|          | 0/50 [00:00<?, ?it/s]\n"
     ]
    },
    {
     "name": "stdout",
     "output_type": "stream",
     "text": [
      "======== ckpt: bias95 | data: TLbias50 =========\n",
      "Loaded 100000 from 1 files\n",
      "Using 1000 for training, 0 for validation\n",
      "Dataset created has 1000 sequences, 61 unique words.\n"
     ]
    },
    {
     "name": "stderr",
     "output_type": "stream",
     "text": [
      "100%|██████████| 16/16 [00:32<00:00,  2.01s/it]\n",
      "Mem Used: 4.29 GB:   0%|          | 0/50 [00:00<?, ?it/s]\n"
     ]
    },
    {
     "name": "stdout",
     "output_type": "stream",
     "text": [
      "======== ckpt: bias95 | data: TLbias80 =========\n",
      "Loaded 100000 from 1 files\n",
      "Using 1000 for training, 0 for validation\n",
      "Dataset created has 1000 sequences, 61 unique words.\n"
     ]
    },
    {
     "name": "stderr",
     "output_type": "stream",
     "text": [
      "100%|██████████| 16/16 [00:31<00:00,  1.98s/it]\n",
      "Mem Used: 4.29 GB:   0%|          | 0/18 [00:00<?, ?it/s]\n"
     ]
    },
    {
     "name": "stdout",
     "output_type": "stream",
     "text": [
      "======== ckpt: bias95 | data: TLbias95 =========\n",
      "Loaded 100000 from 1 files\n",
      "Using 1000 for training, 0 for validation\n"
     ]
    },
    {
     "name": "stderr",
     "output_type": "stream",
     "text": [
      "100%|██████████| 16/16 [00:31<00:00,  1.97s/it]"
     ]
    },
    {
     "name": "stdout",
     "output_type": "stream",
     "text": [
      "Dataset created has 1000 sequences, 61 unique words.\n"
     ]
    },
    {
     "name": "stderr",
     "output_type": "stream",
     "text": [
      "\n"
     ]
    }
   ],
   "source": [
    "to_save = {}\n",
    "for c in [\"control\", \"bias50\", \"bias80\", \"bias95\"]:\n",
    "    for dr in [\"synthetic\", \"TLbias50\", \"TLbias80\", \"TLbias95\"]:\n",
    "        print(f\"======== ckpt: {c} | data: {dr} =========\")\n",
    "        arr = calc_batched_pred(f\"bias/TL{c}\", f\"othello_{dr}\")\n",
    "        to_save[f\"{c}_{dr}\"] = arr\n",
    "        "
   ]
  },
  {
   "cell_type": "code",
   "execution_count": 77,
   "metadata": {},
   "outputs": [],
   "source": [
    "np.savez('illegal_move_mass.npz', **to_save)"
   ]
  },
  {
   "cell_type": "code",
   "execution_count": null,
   "metadata": {},
   "outputs": [],
   "source": [
    "move_mass = [0 for _ in range(60)]\n",
    "\n",
    "for game in tqdm(othello[:1000]):\n",
    "\n",
    "    for len_partial_game in range(1, len(game)):\n",
    "        partial = game[:len_partial_game]\n",
    "\n",
    "        ob = OthelloBoardState()\n",
    "        ob.update(partial)\n",
    "\n",
    "        # load partial game onto GPU\n",
    "        x = torch.tensor([train_dataset.stoi[s] for s in partial], dtype=torch.long).to(device)\n",
    "        # get model prediction\n",
    "        pred, _ = model(x[None, :]) \n",
    "        # transform to dict of move -> probability\n",
    "        pred = pred[0, -1, :]\n",
    "        pred = torch.softmax(pred, dim=0)\n",
    "        move_pred = {train_dataset.itos[i] : float(p) for i,p in enumerate(pred)}\n",
    "\n",
    "        legal_moves = ob.get_valid_moves()\n",
    "        legal = [move_pred[m] for m in legal_moves]\n",
    "        illegal = [move_pred[m] for m in move_pred.keys() if m not in legal_moves]\n",
    "\n",
    "        legal_mass = sum(legal)\n",
    "        illegal_mass = sum(illegal)\n",
    "\n",
    "        move_mass[len_partial_game-1] += illegal_mass\n",
    "\n",
    "print(move_mass)"
   ]
  },
  {
   "cell_type": "code",
   "execution_count": 9,
   "metadata": {},
   "outputs": [
    {
     "data": {
      "text/plain": [
       "<BarContainer object of 60 artists>"
      ]
     },
     "execution_count": 9,
     "metadata": {},
     "output_type": "execute_result"
    },
    {
     "data": {
      "image/png": "[encoded data removed]",
      "text/plain": [
       "<Figure size 432x288 with 1 Axes>"
      ]
     },
     "metadata": {
      "needs_background": "light"
     },
     "output_type": "display_data"
    }
   ],
   "source": [
    "plt.bar(range(len(move_mass)), move_mass)"
   ]
  },
  {
   "cell_type": "code",
   "execution_count": null,
   "metadata": {},
   "outputs": [],
   "source": [
    "othello = Othello(data_root=\"othello_TLbias50\", n_games=1000, test_split=0, deduplicate=False)\n",
    "train_dataset = CharDataset(othello)\n",
    "\n",
    "loader = DataLoader(train_dataset, shuffle=True, pin_memory=True,\n",
    "                                batch_size=64,\n",
    "                                num_workers=0)\n",
    "\n",
    "merged_pred = np.zeros((59, 61))\n",
    "device = torch.cuda.current_device()\n",
    "for x, y in loader:\n",
    "    x = x.to(device)  # [B, T]\n",
    "    y = y.to(device)  # [B, T]\n",
    "    logits, loss = model(x, y)\n",
    "    \n",
    "    logits = torch.softmax(logits, dim=2)\n",
    "    pred = logits.detach().cpu().numpy()\n",
    "    # print(pred.shape)\n",
    "    batch_pred = np.sum(pred, axis=0)\n",
    "    np.add(merged_pred, batch_pred, out=merged_pred)\n",
    "\n",
    "print(merged_pred.shape)\n",
    "\n"
   ]
  },
  {
   "cell_type": "code",
   "execution_count": null,
   "metadata": {},
   "outputs": [],
   "source": [
    "# plotting heat maps of merged predictions\n",
    "\n",
    "# for move in range(merged_pred.shape[0]):\n",
    "for move in range(5):\n",
    "    move_prob = merged_pred[move][1:]\n",
    "    padding = np.zeros(2)\n",
    "    board = np.concatenate([move_prob[:27], padding, move_prob[27:33], padding, move_prob[33:]], axis=0)\n",
    "    # plotting\n",
    "    fig=plt.figure(figsize=(10, 6), dpi= 80, facecolor='w', edgecolor='k')\n",
    "    sns.heatmap(board.reshape(8, 8), vmin=0, vmax=200,\n",
    "            yticklabels=list(\"ABCDEFGH\"), xticklabels=list(range(1,9)), square=True, \n",
    "            annot=True, fmt=\".2f\")"
   ]
  },
  {
   "cell_type": "code",
   "execution_count": null,
   "metadata": {},
   "outputs": [],
   "source": [
    "# generates an animated gif of heatmaps over the course of the game\n",
    "\n",
    "from PIL import Image\n",
    "\n",
    "heatmap_images = []\n",
    "\n",
    "for move in range(merged_pred.shape[0]):\n",
    "    move_prob = merged_pred[move][1:]\n",
    "    padding = np.zeros(2)\n",
    "    board = np.concatenate([move_prob[:27], padding, move_prob[27:33], padding, move_prob[33:]], axis=0)\n",
    "    \n",
    "    fig = plt.figure(figsize=(10, 6), dpi=80, facecolor='w', edgecolor='k')\n",
    "    sns.heatmap(board.reshape(8, 8), vmin=0, vmax=200,\n",
    "                yticklabels=list(\"ABCDEFGH\"), xticklabels=list(range(1,9)), square=True,\n",
    "                annot=True, fmt=\".2f\")\n",
    "    \n",
    "    # Convert the heatmap plot to an image\n",
    "    fig.canvas.draw()\n",
    "    heatmap_image = Image.frombytes('RGB', fig.canvas.get_width_height(), fig.canvas.tostring_rgb())\n",
    "    heatmap_images.append(heatmap_image)\n",
    "\n",
    "heatmap_images[0].save('heatmap_animation.gif', save_all=True, append_images=heatmap_images[1:], loop=0)"
   ]
  },
  {
   "cell_type": "markdown",
   "metadata": {},
   "source": [
    "## Visualizing Predictions"
   ]
  },
  {
   "cell_type": "code",
   "execution_count": 39,
   "metadata": {},
   "outputs": [],
   "source": [
    "model, device = load_othello_model(\"bias/TLcontrol\")"
   ]
  },
  {
   "cell_type": "code",
   "execution_count": 40,
   "metadata": {},
   "outputs": [
    {
     "name": "stderr",
     "output_type": "stream",
     "text": [
      "  0%|          | 0/50 [00:00<?, ?it/s]"
     ]
    },
    {
     "name": "stderr",
     "output_type": "stream",
     "text": [
      "Mem Used: 4.327 GB:   0%|          | 0/50 [00:00<?, ?it/s]"
     ]
    },
    {
     "name": "stdout",
     "output_type": "stream",
     "text": [
      "Loaded 99999 from 1 files. Now deduplicating...\n",
      "Deduplicating finished with 5 games left\n",
      "Using 0 for training, 5 for validation\n",
      "Dataset created has 5 sequences, 61 unique words.\n"
     ]
    },
    {
     "name": "stderr",
     "output_type": "stream",
     "text": [
      "\n"
     ]
    }
   ],
   "source": [
    "ex_games = Othello(data_root=\"othello_synthetic\", n_games=5, test_split=1)\n",
    "train_dataset = CharDataset(ex_games.val)"
   ]
  },
  {
   "cell_type": "code",
   "execution_count": 18,
   "metadata": {},
   "outputs": [
    {
     "name": "stdout",
     "output_type": "stream",
     "text": [
      "--------------------\n",
      "['c4', 'c3', 'c2', 'b2', 'a2', 'a1', 'd3', 'a3', 'b3', 'b4', 'a4', 'a5', 'b1', 'c1', 'e6', 'b5', 'a6', 'a7', 'b6']\n",
      "a O O O O O O O  \n",
      "b O O O O O O    \n",
      "c O X X X        \n",
      "d     X X X      \n",
      "e       X X X    \n",
      "f                \n",
      "g                \n",
      "h                \n",
      "  1 2 3 4 5 6 7 8\n",
      "--------------------\n",
      "['c5', 'd1', 'd2', 'e2', 'e3', 'f4', 'f5', 'f6', 'f7']\n"
     ]
    }
   ],
   "source": [
    "# partial_game = ex_games.val[0][:7]\n",
    "# partial_game = [19, 18, 17, 20, 21, 12, 37, 30, 14, 43, 26, 34, 39, 38, 46, 9, 42, 33, 4, 55, 32, 13, 44, 41, 0, 25, 3]\n",
    "# partial_game = [19, 18, 17, 20, 21, 12, 37, 30, 14, 43, 26, 34, 39, 38, 46, 9, 42, 33, 4, 55, 32, 13, 44, 41, 0, 25]\n",
    "partial_game = [19, 18, 17, 9, 1, 0, 26, 2, 10, 11, 3, 4, 8, 16, 37, 12, 5, 6, 13]\n",
    "ob = OthelloBoardState()\n",
    "ob.update(partial_game)\n",
    "ob.__print__()\n",
    "print([permit_reverse(x) for x in ob.get_valid_moves()])"
   ]
  },
  {
   "cell_type": "code",
   "execution_count": 19,
   "metadata": {},
   "outputs": [],
   "source": [
    "# load partial game onto GPU\n",
    "history = torch.tensor([train_dataset.stoi[s] for s in partial_game], dtype=torch.long).to(device)\n",
    "# get model prediction\n",
    "pred, _ = model(history[None, :]) \n",
    "# transform into probability for each board state\n",
    "pred = pred[0, -1, 1:]\n",
    "padding = torch.zeros(2).cuda()\n",
    "pred = torch.softmax(pred, dim=0)\n",
    "pred = torch.cat([pred[:27], padding, pred[27:33], padding, pred[33:]], dim=0)"
   ]
  },
  {
   "cell_type": "code",
   "execution_count": 20,
   "metadata": {},
   "outputs": [
    {
     "data": {
      "text/plain": [
       "<AxesSubplot:>"
      ]
     },
     "execution_count": 20,
     "metadata": {},
     "output_type": "execute_result"
    },
    {
     "data": {
      "image/png": "[encoded data removed]",
      "text/plain": [
       "<Figure size 800x480 with 2 Axes>"
      ]
     },
     "metadata": {},
     "output_type": "display_data"
    }
   ],
   "source": [
    "# plotting\n",
    "fig=plt.figure(figsize=(10, 6), dpi= 80, facecolor='w', edgecolor='k')\n",
    "sns.heatmap(pred.detach().cpu().numpy().reshape(8, 8), \n",
    "            yticklabels=list(\"ABCDEFGH\"), xticklabels=list(range(1,9)), square=True, \n",
    "            annot=True, fmt=\".2f\")"
   ]
  }
 ],
 "metadata": {
  "kernelspec": {
   "display_name": "othello",
   "language": "python",
   "name": "python3"
  },
  "language_info": {
   "codemirror_mode": {
    "name": "ipython",
    "version": 3
   },
   "file_extension": ".py",
   "mimetype": "text/x-python",
   "name": "python",
   "nbconvert_exporter": "python",
   "pygments_lexer": "ipython3",
   "version": "3.8.8"
  },
  "orig_nbformat": 4
 },
 "nbformat": 4,
 "nbformat_minor": 2
}
